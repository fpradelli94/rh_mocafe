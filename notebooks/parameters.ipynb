{
 "cells": [
  {
   "cell_type": "markdown",
   "metadata": {
    "collapsed": false
   },
   "source": [
    "# Simulation parameters\n",
    "We create a parameter dataframe containing the simulations' parameters, and a convenience function to fill it."
   ]
  },
  {
   "cell_type": "code",
   "execution_count": 1,
   "metadata": {
    "ExecuteTime": {
     "end_time": "2023-11-15T09:03:21.803741326Z",
     "start_time": "2023-11-15T09:03:19.961870154Z"
    },
    "collapsed": false
   },
   "outputs": [],
   "source": [
    "import math\n",
    "import pandas as pd\n",
    "\n",
    "# create empty dataframe\n",
    "columns = [\"name\",  # name of the parameter\n",
    "           \"info\",  # additional info, if required\n",
    "           \"real_value\",  # real value (i.e. not using arbitrary units)\n",
    "           \"real_range_max\",  # max theoretical value (if meaningful)\n",
    "           \"real_range_min\",  # min theoretical value (if meaningful)\n",
    "           \"real_um\",  # unit of measure\n",
    "           \"sim_value\",  # value in arbitrary units\n",
    "           \"sim_range_max\",  # max value in arbitrary units\n",
    "           \"sim_range_min\",  # min value in arbitrary units\n",
    "           \"sim_um\",  # arbitrary units of measure\n",
    "           \"references\"]  # scientific reference for the parameter (if needed)\n",
    "\n",
    "g_parameters_df = pd.DataFrame(columns=columns)\n",
    "\n",
    "\n",
    "# define convenience function to fill parameters dict\n",
    "def fill_parameters(params: pd.DataFrame,\n",
    "                    name=None,\n",
    "                    info=None,\n",
    "                    real_value=None,\n",
    "                    real_range_max=None,\n",
    "                    real_range_min=None,\n",
    "                    real_um=None,\n",
    "                    sim_value=None,\n",
    "                    sim_range_max=None,\n",
    "                    sim_range_min=None,\n",
    "                    sim_um=None,\n",
    "                    references=None,\n",
    "                    influence=None):\n",
    "    # get input arguments\n",
    "    args = locals()\n",
    "\n",
    "    # define dictionary of the new row\n",
    "    new_parameter_dict = {}\n",
    "    for column in columns:\n",
    "        new_parameter_dict[column] = [args[column]]\n",
    "\n",
    "    # add it to\n",
    "    return pd.concat([params, pd.DataFrame(new_parameter_dict)])"
   ]
  },
  {
   "cell_type": "markdown",
   "metadata": {
    "collapsed": false
   },
   "source": [
    "Then we initialize the arbitrary units:"
   ]
  },
  {
   "cell_type": "code",
   "execution_count": 2,
   "metadata": {
    "ExecuteTime": {
     "end_time": "2023-11-15T09:03:22.438164610Z",
     "start_time": "2023-11-15T09:03:20.240692961Z"
    },
    "collapsed": false
   },
   "outputs": [],
   "source": [
    "from pint import UnitRegistry\n",
    "\n",
    "# define unit registry\n",
    "ureg = UnitRegistry()\n",
    "\n",
    "# define names\n",
    "sau_name = \"SpaceArbitraryUnit\"\n",
    "tau_name = \"TimeArbitraryUnit\"\n",
    "afau_name = \"AFsArbitraryUnit\"\n",
    "\n",
    "# define arbitrary units for space and time\n",
    "ureg.define(f\"{sau_name} = 800 * um = sau\")\n",
    "ureg.define(f\"{tau_name} = 26 * min = tau\")\n",
    "\n",
    "# define arbitrary units\n",
    "sim_s_au = 800 * ureg.um\n",
    "sim_t_au = 26 * ureg.min\n",
    "sim_af_au = 6000 * ureg(\"pg / mL\")  # about the same of the max VEGF value reported by Na et al. (2003)\n",
    "ureg.define(f\"{afau_name} = {sim_af_au} = afau\")\n",
    "\n",
    "# add arbitrary units to dataframe\n",
    "g_parameters_df = fill_parameters(g_parameters_df,\n",
    "                                  name=sau_name,\n",
    "                                  real_value=sim_s_au.magnitude,\n",
    "                                  real_um=sim_s_au.units,\n",
    "                                  sim_value=sim_s_au.to(\"sau\").magnitude,\n",
    "                                  sim_um=sim_s_au.to(\"sau\").units)\n",
    "g_parameters_df = fill_parameters(g_parameters_df,\n",
    "                                  name=tau_name,\n",
    "                                  real_value=sim_t_au.magnitude,\n",
    "                                  real_um=sim_t_au.units,\n",
    "                                  sim_value=sim_t_au.to(\"tau\").magnitude,\n",
    "                                  sim_um=sim_t_au.to(\"tau\").units)\n",
    "g_parameters_df = fill_parameters(g_parameters_df,\n",
    "                                  name=afau_name,\n",
    "                                  real_value=sim_af_au.magnitude,\n",
    "                                  real_um=sim_af_au.units,\n",
    "                                  sim_value=1,\n",
    "                                  sim_um=\"afau\")"
   ]
  },
  {
   "cell_type": "markdown",
   "metadata": {
    "collapsed": false
   },
   "source": [
    "In the following, we briefly discuss the derivation for each parameter.\n",
    "\n",
    "> Note: some parameters' name might change from the manuscript to this Notebook"
   ]
  },
  {
   "cell_type": "markdown",
   "metadata": {
    "collapsed": false
   },
   "source": [
    "## Angiogenic factor (af) parameters\n",
    "\n",
    "In our model we assume that the following partial differential equation (PDE) regulates the angiogenic factors (AFs) distribution ($af$):\n",
    "\n",
    "$$\n",
    "\\begin{align}\n",
    "D_{af}\\nabla^2 af + V_{pT_{af}}\\varphi (1 - shf(c)) - V_{uC_{af}}\\cdot shf(c)af - V_{d_{af}} af = 0\n",
    "\\end{align}\n",
    "$$\n",
    "\n",
    "Where:\n",
    "- $shf$ is a smooth Heavyside function\n",
    "- $D_{af}$ is the AFs diffusivity\n",
    "- $V_{pT_{af}}$ is the AFs production rate\n",
    "- $V_{uC_{af}}$ is the AFs uptake rate by the capillaries\n",
    "- $V_{d_{af}}$ is the degradation rate.\n",
    "- $\\varphi$ is the tumor phase field\n",
    "\n",
    "So we presume that $af$ is diffusing in the domain, while it is produced in the whole tumor body. Moreover, it decays in space and in capillaries.\n",
    "\n",
    "In many cases, we considered the vascular endothelial growth factor (VEGF) as the main reference to estimate AFs parameters."
   ]
  },
  {
   "cell_type": "markdown",
   "metadata": {
    "collapsed": false
   },
   "source": [
    "### Angiogenic factor diffusivity ($D_{af}$)\n",
    "Kihara et al. (2013) measured the diffusivity of different peptides, with molecular weights ranging from 3 to 40 kDa. The diffusivity is measured in an actual extracellular matrix condensed by fibroblasts, making the experimental conditions closer to the retinal environment than a simple measure in water or serum.\n",
    "\n",
    "In Table 1 they report the diffusion coefficients for two peptides with a mass close to VEGF:\n",
    "- Alexa488 dextran (which is 10 kDa)\n",
    "- and for FITC dextran (40 kDa)"
   ]
  },
  {
   "cell_type": "code",
   "execution_count": 3,
   "metadata": {
    "ExecuteTime": {
     "end_time": "2023-11-15T09:03:22.484051977Z",
     "start_time": "2023-11-15T09:03:20.878649651Z"
    },
    "collapsed": false
   },
   "outputs": [],
   "source": [
    "D_Alexa488_dextran_serum = 81.7 * ureg(\"(um^2) / s\")\n",
    "D_FITC_dextran_serum = 44.7e-6 * ureg(\"(um^2) / s\")"
   ]
  },
  {
   "cell_type": "markdown",
   "metadata": {
    "collapsed": false
   },
   "source": [
    "In Figure 8 they show that the diffusivity reduction in the extracellular matrix (ECM) compared to serum is quite small (27%), even though statistically significant."
   ]
  },
  {
   "cell_type": "code",
   "execution_count": 4,
   "metadata": {
    "ExecuteTime": {
     "end_time": "2023-11-15T09:03:22.484233602Z",
     "start_time": "2023-11-15T09:03:20.878771124Z"
    },
    "collapsed": false
   },
   "outputs": [],
   "source": [
    "D_Alexa488_dextran_matrix = 0.73 * D_Alexa488_dextran_serum\n",
    "D_FITC_dextran_matrix = 0.73 * D_FITC_dextran_serum"
   ]
  },
  {
   "cell_type": "markdown",
   "metadata": {
    "collapsed": false
   },
   "source": [
    "We emplyed these measure to estimate VEGF diffusivity in retina by linear interpolation between the two values reported above.\n",
    "\n",
    "According to the Uniprot entry for VEGFA (Uiprot ID: P15692) the VEGF isoforms have a molecular weight between 15,981 Da (Isoform VEGF111; identifier: P15692-10) and 45,467 Da (Isoform L-VEGF206; identifier: P15692-14). So we have:"
   ]
  },
  {
   "cell_type": "code",
   "execution_count": 5,
   "metadata": {
    "ExecuteTime": {
     "end_time": "2023-11-15T09:03:22.484622443Z",
     "start_time": "2023-11-15T09:03:20.878861697Z"
    },
    "collapsed": false
   },
   "outputs": [
    {
     "name": "stdout",
     "output_type": "stream",
     "text": [
      "VEGF Diffusivity is in range: [1.9e-05 millimeter ** 2 / second, 6.5e-05 millimeter ** 2 / second] millimiters^2 / seconds\n"
     ]
    }
   ],
   "source": [
    "# estimate as a line D = m * mol_w + q\n",
    "m = (D_FITC_dextran_serum - D_Alexa488_dextran_serum) / (40e3 - 10e3)\n",
    "q = D_Alexa488_dextran_serum - (10e3 * m)\n",
    "\n",
    "# max diffusivity: smaller isoform in serum:\n",
    "min_mol_w = 16e3  # Da\n",
    "D_VEGF_max = (m * min_mol_w) + q\n",
    "D_VEGF_max = D_VEGF_max.to(\"(mm^2) / s\")  # convert to compare with others\n",
    "\n",
    "# min diffusivity: bigger isoform in serum\n",
    "max_mol_w = 45e3  # Da\n",
    "D_VEGF_min = 0.73 * (m * max_mol_w) + q\n",
    "D_VEGF_min = D_VEGF_min.to(\"(mm^2) / s\")  # convert to compare with others\n",
    "\n",
    "print(f\"VEGF Diffusivity is in range: [{D_VEGF_min:.2g}, {D_VEGF_max:.2g}] millimiters^2 / seconds\")"
   ]
  },
  {
   "cell_type": "markdown",
   "metadata": {
    "collapsed": false
   },
   "source": [
    "The range we found agrees with the values provided by the other authors."
   ]
  },
  {
   "cell_type": "code",
   "execution_count": 6,
   "metadata": {
    "ExecuteTime": {
     "end_time": "2023-11-15T09:03:22.485010153Z",
     "start_time": "2023-11-15T09:03:20.879035051Z"
    },
    "collapsed": false
   },
   "outputs": [
    {
     "name": "stdout",
     "output_type": "stream",
     "text": [
      "## D_af \n",
      "value:  4.2415938159916675e-05 millimeter ** 2 / second \n"
     ]
    }
   ],
   "source": [
    "D_af = (D_VEGF_min + D_VEGF_max) / 2\n",
    "print(\"## D_af \\n\"\n",
    "      f\"value:  {D_af} \\n\")\n",
    "\n",
    "# add it to dictionary\n",
    "g_parameters_df = fill_parameters(g_parameters_df,\n",
    "                                  name=\"D_af\",\n",
    "                                  info=\"Diffusivity of angiogenic factor\",\n",
    "                                  real_value=D_af.magnitude,\n",
    "                                  real_range_max=D_VEGF_max.magnitude,\n",
    "                                  real_range_min=D_VEGF_min.magnitude,\n",
    "                                  real_um=D_af.units,\n",
    "                                  references=\"Estimated from Kihara, T., Ito, J., & Miyake, J. (2013). Measurement of Biomolecular Diffusion in Extracellular Matrix Condensed by Fibroblasts Using Fluorescence Correlation Spectroscopy. PLoS ONE, 8(11), 82382. https://doi.org/10.1371/JOURNAL.PONE.0082382\",\n",
    "                                  sim_value=D_af.to(\"sau^2 / tau\").magnitude,\n",
    "                                  sim_range_max=D_VEGF_max.to(\"sau^2 / tau\").magnitude,\n",
    "                                  sim_range_min=D_VEGF_min.to(\"sau^2 / tau\").magnitude,\n",
    "                                  sim_um=D_af.to(\"sau^2 / tau\").units)"
   ]
  },
  {
   "cell_type": "markdown",
   "metadata": {
    "collapsed": false
   },
   "source": [
    "### Angiogenic factor degradation rate ($V_{d_{af}}$)\n",
    "\n",
    "According to Vempati et al. (2014), the degradation rate of VEGF in cellular conditions is:"
   ]
  },
  {
   "cell_type": "code",
   "execution_count": 7,
   "metadata": {
    "ExecuteTime": {
     "end_time": "2023-11-15T09:03:22.485401464Z",
     "start_time": "2023-11-15T09:03:20.879142384Z"
    },
    "collapsed": false
   },
   "outputs": [
    {
     "name": "stdout",
     "output_type": "stream",
     "text": [
      "## V_d_af \n",
      "value:  0.918 / hour \n",
      "range:  [0.8280000000000001 / hour, 1.008 / hour]\n"
     ]
    }
   ],
   "source": [
    "## Values reported by Vempati et al. (2014)\n",
    "V_d_af_max = 2.8e-4 * ureg(\"1 / s\")\n",
    "V_d_af_max = V_d_af_max.to(\"1 / hr\")\n",
    "V_d_af_min = 2.3e-4 * ureg(\"1 / s\")\n",
    "V_d_af_min = V_d_af_min.to(\"1 / hr\")\n",
    "\n",
    "# Take the average\n",
    "V_d_af = (V_d_af_max + V_d_af_min) / 2\n",
    "\n",
    "print(f\"## V_d_af \\n\"\n",
    "      f\"value:  {V_d_af} \\n\"\n",
    "      f\"range:  [{V_d_af_min}, {V_d_af_max}]\")"
   ]
  },
  {
   "cell_type": "code",
   "execution_count": 8,
   "metadata": {
    "ExecuteTime": {
     "end_time": "2023-11-15T09:03:22.485599949Z",
     "start_time": "2023-11-15T09:03:20.881953499Z"
    },
    "collapsed": false
   },
   "outputs": [],
   "source": [
    "# add V_d_af to parameters\n",
    "g_parameters_df = fill_parameters(g_parameters_df,\n",
    "                                  name=\"V_d_af\",\n",
    "                                  info=\"Angiogenic factor degradation rate\",\n",
    "                                  real_value=V_d_af.magnitude,\n",
    "                                  real_range_max=V_d_af_max.magnitude,\n",
    "                                  real_range_min=V_d_af_min.magnitude,\n",
    "                                  real_um=V_d_af.units,\n",
    "                                  references=\"Vempati, P., Popel, A. S., & Gabhann, F. Mac. (2014). Extracellular regulation of VEGF: isoforms, proteolysis, and vascular patterning. Cytokine Growth Factor Rev, 25(1), 1-19. https://doi.org/10.1016/j.cytogfr.2013.11.002\",\n",
    "                                  sim_value=V_d_af.to(\"1 / tau\").magnitude,\n",
    "                                  sim_range_max=V_d_af_max.to(\"1 / tau\").magnitude,\n",
    "                                  sim_range_min=V_d_af_min.to(\"1 / tau\").magnitude,\n",
    "                                  sim_um=V_d_af.to(\"1 / tau\").units)"
   ]
  },
  {
   "cell_type": "markdown",
   "metadata": {
    "collapsed": false
   },
   "source": [
    "### Angiogenic factor production rate ($V_{pT_{af}}$)\n",
    "Finley et al. (2013) have provided experimental measures and estimation of VEGF secretion rates:"
   ]
  },
  {
   "cell_type": "code",
   "execution_count": 9,
   "metadata": {
    "ExecuteTime": {
     "end_time": "2023-11-15T09:03:22.485778334Z",
     "start_time": "2023-11-15T09:03:20.886093460Z"
    },
    "collapsed": false
   },
   "outputs": [],
   "source": [
    "p_VEGF_in_vitro_max = 2.65  # molecules / (cell * s)\n",
    "p_VEGF_in_vitro_min = 0.03  # molecules / (cell * s)\n",
    "p_VEGF_tumor_max = 0.023  # molecules / (cell * s)\n",
    "p_VEGF_tumor_min = 0.007  # molecules / (cell * s)"
   ]
  },
  {
   "cell_type": "markdown",
   "metadata": {
    "collapsed": false
   },
   "source": [
    "To convert these values in the units required by our model $[\\frac{afau}{tau}]$, we need to convert it making assumptions on:\n",
    "- The weight of 1 molecule of VEGF ($W_{VEGF}$; unit of measure: grams)\n",
    "- The cellular density in the tumor volume ($CD_{T}$; unit of measure: cells / mm^3)"
   ]
  },
  {
   "cell_type": "markdown",
   "metadata": {
    "collapsed": false
   },
   "source": [
    "#### $W_{VEGF}$\n",
    "The weight of one molecule of VEGF can be computed easily from the molar mass:"
   ]
  },
  {
   "cell_type": "code",
   "execution_count": 10,
   "metadata": {
    "ExecuteTime": {
     "end_time": "2023-11-15T09:03:22.486168694Z",
     "start_time": "2023-11-15T09:03:20.891103654Z"
    },
    "collapsed": false
   },
   "outputs": [
    {
     "name": "stdout",
     "output_type": "stream",
     "text": [
      "W_VEGF: [2.6569246097641978e-20 gram, 7.472600464961807e-20 gram]\n"
     ]
    }
   ],
   "source": [
    "# Avogadro's constant\n",
    "c_Avogadro = 6.022e23\n",
    "\n",
    "# Estimate W_VEGF\n",
    "W_VEGF_min = (min_mol_w / c_Avogadro) * ureg(\"g\")\n",
    "W_VEGF_max = (max_mol_w / c_Avogadro) * ureg(\"g\")\n",
    "print(f\"W_VEGF: [{W_VEGF_min}, {W_VEGF_max}]\")"
   ]
  },
  {
   "cell_type": "markdown",
   "metadata": {
    "collapsed": false
   },
   "source": [
    "#### $CD_T$\n",
    "Assuming a cell radius in the order of:"
   ]
  },
  {
   "cell_type": "code",
   "execution_count": 11,
   "metadata": {
    "ExecuteTime": {
     "end_time": "2023-11-15T09:03:22.486375220Z",
     "start_time": "2023-11-15T09:03:20.938455849Z"
    },
    "collapsed": false
   },
   "outputs": [],
   "source": [
    "R_c = 10 * ureg(\"um\")"
   ]
  },
  {
   "cell_type": "markdown",
   "metadata": {
    "collapsed": false
   },
   "source": [
    "We can assume that where $\\phi = 1$ all the tumor space is filled by cells, and we would have:"
   ]
  },
  {
   "cell_type": "code",
   "execution_count": 12,
   "metadata": {
    "ExecuteTime": {
     "end_time": "2023-11-15T09:03:22.486557765Z",
     "start_time": "2023-11-15T09:03:20.938652554Z"
    },
    "collapsed": false
   },
   "outputs": [],
   "source": [
    "CD_T_max = 1 / ((4 / 3) * math.pi * (R_c ** 3))\n",
    "CD_T_max = CD_T_max.to(\"1 / mL\")"
   ]
  },
  {
   "cell_type": "markdown",
   "metadata": {
    "collapsed": false
   },
   "source": [
    "To be more conservative, we can assume that some of the tumor space contains ECM, and thus reduce this value of some percentage:"
   ]
  },
  {
   "cell_type": "code",
   "execution_count": 13,
   "metadata": {
    "ExecuteTime": {
     "end_time": "2023-11-15T09:03:22.486927974Z",
     "start_time": "2023-11-15T09:03:20.938808568Z"
    },
    "collapsed": false
   },
   "outputs": [
    {
     "name": "stdout",
     "output_type": "stream",
     "text": [
      "CD_T: [179049310.97838232 / milliliter, 238732414.6378431 / milliliter]\n"
     ]
    }
   ],
   "source": [
    "CD_T_min = CD_T_max * 0.75  # based on rigid packing hypothesis\n",
    "print(f\"CD_T: [{CD_T_min}, {CD_T_max}]\")"
   ]
  },
  {
   "cell_type": "markdown",
   "metadata": {
    "collapsed": false
   },
   "source": [
    "#### Conversion\n",
    "Gathering all together, we have that $V_{pT_{af}}$ can be in the order to:"
   ]
  },
  {
   "cell_type": "code",
   "execution_count": 14,
   "metadata": {
    "ExecuteTime": {
     "end_time": "2023-11-15T09:03:22.487317445Z",
     "start_time": "2023-11-15T09:03:20.938933362Z"
    },
    "collapsed": false
   },
   "outputs": [
    {
     "name": "stdout",
     "output_type": "stream",
     "text": [
      "## V_pT_af \n",
      "value: 47.27472674454134 picogram / milliliter / second \n",
      "range: [0.03330043644898509 picogram / milliliter / second, 47.27472674454134 picogram / milliliter / second]\n"
     ]
    }
   ],
   "source": [
    "V_pT_af_max = (p_VEGF_in_vitro_max * ureg(\"1 / s\") * W_VEGF_max * CD_T_max)\n",
    "V_pT_af_max = V_pT_af_max.to_compact().to(\"pg / (mL * s)\")\n",
    "V_pT_af_min = (p_VEGF_tumor_min * ureg(\"1 / s\") * W_VEGF_min * CD_T_min)\n",
    "V_pT_af_min = V_pT_af_min.to_compact().to(\"pg /(mL * s)\")\n",
    "\n",
    "V_pT_af = V_pT_af_max\n",
    "\n",
    "print(f\"## V_pT_af \\n\"\n",
    "      f\"value: {V_pT_af} \\n\"\n",
    "      f\"range: [{V_pT_af_min}, {V_pT_af_max}]\")"
   ]
  },
  {
   "cell_type": "code",
   "execution_count": 15,
   "metadata": {
    "ExecuteTime": {
     "end_time": "2023-11-15T09:03:22.487503090Z",
     "start_time": "2023-11-15T09:03:20.939046265Z"
    },
    "collapsed": false
   },
   "outputs": [],
   "source": [
    "# add it to parameters dict\n",
    "g_parameters_df = fill_parameters(g_parameters_df,\n",
    "                                  name=\"V_pT_af\",\n",
    "                                  info=\"Angiogenic factor production rate inside the tumor\",\n",
    "                                  real_value=V_pT_af.magnitude,\n",
    "                                  real_range_max=V_pT_af_max.magnitude,\n",
    "                                  real_range_min=V_pT_af_min.magnitude,\n",
    "                                  real_um=V_d_af.units,\n",
    "                                  sim_value=V_pT_af.to(\"afau / tau\").magnitude,\n",
    "                                  sim_range_min=V_pT_af_min.to(\"afau / tau\").magnitude,\n",
    "                                  sim_range_max=V_pT_af_max.to(\"afau / tau\").magnitude,\n",
    "                                  sim_um=\"afau / tau\",\n",
    "                                  references=\"Estimated from Finley, S. D., Dhar, M., & Popel, A. S. (2013). Compartment model predicts VEGF secretion and investigates the effects of VEGF Trap in tumor-bearing mice. Frontiers in Oncology, 3 JUL, 196. https://doi.org/10.3389/fonc.2013.00196\")"
   ]
  },
  {
   "cell_type": "markdown",
   "metadata": {
    "collapsed": false
   },
   "source": [
    "### Angiogenic factor uptake in capillaries ($V_{uC_{af}}$)\n",
    "We assumed the minimum value to be the minimal degradation rate, and the maximum to be the value leading to no TC activation."
   ]
  },
  {
   "cell_type": "code",
   "execution_count": 16,
   "metadata": {
    "ExecuteTime": {
     "end_time": "2023-11-15T09:03:22.487867030Z",
     "start_time": "2023-11-15T09:03:20.939331052Z"
    },
    "collapsed": false
   },
   "outputs": [],
   "source": [
    "V_uC_af_min = V_d_af_min\n",
    "V_uC_af_max = 10_000 * V_d_af_min\n",
    "\n",
    "g_parameters_df = fill_parameters(g_parameters_df,\n",
    "                                  name=\"V_uc_af\",\n",
    "                                  info=\"Angiogenic factor uptake in capillaries\",\n",
    "                                  real_value=V_uC_af_min.magnitude,\n",
    "                                  real_range_min=V_uC_af_min.magnitude,\n",
    "                                  real_range_max=V_uC_af_max.magnitude,\n",
    "                                  real_um=V_uC_af_min.units,\n",
    "                                  references=\"Estimated from degradation\",\n",
    "                                  sim_value=V_uC_af_min.to(\"1 / tau\").magnitude,\n",
    "                                  sim_um=\"1 / tau\",\n",
    "                                  sim_range_min=V_uC_af_min.to(\"1 / tau\").magnitude,\n",
    "                                  sim_range_max=V_uC_af_max.to(\"1 / tau\").magnitude)"
   ]
  },
  {
   "cell_type": "markdown",
   "metadata": {
    "collapsed": false
   },
   "source": [
    "## Angiogenesis parameters\n",
    "\n",
    "### Cell radius ($R_c$)\n",
    "\n",
    "For the cell radius we assumed half of the maximum value provided by Bionumbers (Milo et al., 2010) at the ID 100432, which is:"
   ]
  },
  {
   "cell_type": "code",
   "execution_count": 17,
   "metadata": {
    "ExecuteTime": {
     "end_time": "2023-11-15T09:03:22.494772104Z",
     "start_time": "2023-11-15T09:03:20.982358493Z"
    },
    "collapsed": false
   },
   "outputs": [
    {
     "name": "stdout",
     "output_type": "stream",
     "text": [
      "R_c: 10 micrometer\n"
     ]
    }
   ],
   "source": [
    "print(f\"R_c: {R_c}\")\n",
    "\n",
    "# add it to parameters dict\n",
    "g_parameters_df = fill_parameters(g_parameters_df,\n",
    "                                  name=\"R_c\",\n",
    "                                  info=\"Cell radius\",\n",
    "                                  real_value=R_c.magnitude,\n",
    "                                  real_um=R_c.units,\n",
    "                                  references=\"Milo et al. Nucl. Acids Res. (2010) 38 (suppl 1): D750-D753.; ID: 100432\",\n",
    "                                  sim_value=R_c.to(\"sau\").magnitude,\n",
    "                                  sim_um=R_c.to(\"sau\").units)"
   ]
  },
  {
   "cell_type": "markdown",
   "metadata": {
    "collapsed": false
   },
   "source": [
    "This value also agrees with the endothelial cells dimension which can be inferred from the pictures reported by Shamloo, A. et al. (2008) (see Fig. 5A and 5B)."
   ]
  },
  {
   "cell_type": "markdown",
   "metadata": {
    "collapsed": false
   },
   "source": [
    "### Interface width of the capillaries ($\\epsilon$)\n",
    "\n",
    "The capillaries phase field model depends on a parameters $\\epsilon$, regulating the interfacial width between the capillary and the surrounding tissue. We use the same value used by Travasso et al. (2011):"
   ]
  },
  {
   "cell_type": "code",
   "execution_count": 18,
   "metadata": {
    "ExecuteTime": {
     "end_time": "2023-11-15T09:03:22.495144634Z",
     "start_time": "2023-11-15T09:03:20.982542428Z"
    },
    "collapsed": false
   },
   "outputs": [
    {
     "name": "stdout",
     "output_type": "stream",
     "text": [
      "epsilon: 1.6 micrometer ** 2\n",
      "         2.4e-06 SpaceArbitraryUnit ** 2\n"
     ]
    }
   ],
   "source": [
    "epsilon = (1.25 ** 2) * (ureg.um ** 2)  # notice: in Travasso provided as 'um' but it is probably an error\n",
    "\n",
    "epsilon_real = epsilon\n",
    "epsilon_sim = epsilon.to('sau ** 2')\n",
    "print(f\"epsilon: {epsilon_real:.2g}\\n\"\n",
    "      f\"         {epsilon_sim:.2g}\")"
   ]
  },
  {
   "cell_type": "code",
   "execution_count": 19,
   "metadata": {
    "ExecuteTime": {
     "end_time": "2023-11-15T09:03:22.495319229Z",
     "start_time": "2023-11-15T09:03:20.982656721Z"
    },
    "collapsed": false
   },
   "outputs": [],
   "source": [
    "# add it to parameters\n",
    "g_parameters_df = fill_parameters(g_parameters_df,\n",
    "                                  name=\"epsilon\",\n",
    "                                  info=\"Interface width\",\n",
    "                                  real_value=epsilon_real.magnitude,\n",
    "                                  real_um=epsilon_real.units,\n",
    "                                  references=\"Same provied by Travasso, R. D. M., Poire, E. C., Castro, M., Rodrguez-Manzaneque, J. C., & Hernandez-Machado, A. (2011). Tumor angiogenesis and vascular patterning: A mathematical model. PLoS ONE, 6(5), e19989. https://doi.org/10.1371/journal.pone.0019989\",\n",
    "                                  sim_value=epsilon_sim.magnitude,\n",
    "                                  sim_um=epsilon_sim.units)"
   ]
  },
  {
   "cell_type": "markdown",
   "metadata": {
    "collapsed": false
   },
   "source": [
    "### Time step ($dt$)\n",
    "The simulation time step is a parameter of the angiogenesis model because it regulates the frequency of tip cell activation. Indeed, at each time step maximum one tip cell can activate. We assume $dt$ to be the same as the arbitrary time unit:"
   ]
  },
  {
   "cell_type": "code",
   "execution_count": 20,
   "metadata": {
    "ExecuteTime": {
     "end_time": "2023-11-15T09:03:22.495636887Z",
     "start_time": "2023-11-15T09:03:20.982755994Z"
    },
    "collapsed": false
   },
   "outputs": [
    {
     "name": "stdout",
     "output_type": "stream",
     "text": [
      "dt: 26 minute\n"
     ]
    }
   ],
   "source": [
    "dt = sim_t_au\n",
    "print(f\"dt: {dt}\")"
   ]
  },
  {
   "cell_type": "markdown",
   "metadata": {
    "collapsed": false
   },
   "source": [
    "This makes sure that the activation of new tip cells does not lead to discontinuous capillaries, because the maximum cell displacement (i.e. the maximum tip cells' velocity times $dt$) is lower than a TC radius (see section regarding $G_M$)"
   ]
  },
  {
   "cell_type": "code",
   "execution_count": 21,
   "metadata": {
    "ExecuteTime": {
     "end_time": "2023-11-15T09:03:22.495749880Z",
     "start_time": "2023-11-15T09:03:20.982868347Z"
    },
    "collapsed": false
   },
   "outputs": [],
   "source": [
    "g_parameters_df = fill_parameters(g_parameters_df,\n",
    "                                  name=\"dt\",\n",
    "                                  info=\"Simulation time step\",\n",
    "                                  real_value=dt.magnitude,\n",
    "                                  real_um=dt.units,\n",
    "                                  references=\"Same provied by Travasso, R. D. M., Poire, E. C., Castro, M., Rodrguez-Manzaneque, J. C., & Hernandez-Machado, A. (2011). Tumor angiogenesis and vascular patterning: A mathematical model. PLoS ONE, 6(5), e19989. https://doi.org/10.1371/journal.pone.0019989\",\n",
    "                                  sim_value=dt.to(\"tau\").magnitude,\n",
    "                                  sim_um=dt.to(\"tau\").units)"
   ]
  },
  {
   "cell_type": "markdown",
   "metadata": {
    "collapsed": false
   },
   "source": [
    "### Angiogenic factor value for maximum proliferation ($T_p$)\n",
    "\n",
    "Based on the measures realized by Tracqui P. et al. (2005), Travasso et al. (2011) estimated a linear increase of the proliferation of endothelial cells only up to a certain angiogenic factor level, $T_p$. This $T_p$ value is set to:"
   ]
  },
  {
   "cell_type": "code",
   "execution_count": 22,
   "metadata": {
    "ExecuteTime": {
     "end_time": "2023-11-15T09:03:22.495838933Z",
     "start_time": "2023-11-15T09:03:20.983043302Z"
    },
    "collapsed": false
   },
   "outputs": [],
   "source": [
    "T_p = 0.3 * ureg.afau"
   ]
  },
  {
   "cell_type": "markdown",
   "metadata": {
    "collapsed": false
   },
   "source": [
    "This value allowed them to obtain results comparable with angiogenic experiments. Thus, we kept the same."
   ]
  },
  {
   "cell_type": "code",
   "execution_count": 23,
   "metadata": {
    "ExecuteTime": {
     "end_time": "2023-11-15T09:03:22.495928065Z",
     "start_time": "2023-11-15T09:03:20.983140344Z"
    },
    "collapsed": false
   },
   "outputs": [],
   "source": [
    "T_p_real = T_p.to(\"pg / mL\")\n",
    "T_p_sim = T_p\n",
    "\n",
    "g_parameters_df = fill_parameters(g_parameters_df,\n",
    "                                  name=\"T_p\",\n",
    "                                  info=\"Angiogenic factor concentration for maximum proliferation\",\n",
    "                                  real_value=T_p_real.magnitude,\n",
    "                                  real_um=T_p_real.units,\n",
    "                                  references=\"None\",\n",
    "                                  sim_value=T_p_sim.magnitude,\n",
    "                                  sim_um=T_p_sim.units)"
   ]
  },
  {
   "cell_type": "markdown",
   "metadata": {
    "collapsed": false
   },
   "source": [
    "### Endothelial cells proliferation rate ($\\alpha_p$)\n",
    "\n",
    "Based on the measures by Tracqui, P. (2005), Travasso et al. (2011) estimated a value for the proliferation rate equal to:\n"
   ]
  },
  {
   "cell_type": "code",
   "execution_count": 24,
   "metadata": {
    "ExecuteTime": {
     "end_time": "2023-11-15T09:03:22.496015978Z",
     "start_time": "2023-11-15T09:03:20.984483910Z"
    },
    "collapsed": false
   },
   "outputs": [],
   "source": [
    "endothelial_cells_proliferation_rate_min = 0.49 * (1 / ureg.hr)\n",
    "endothelial_cells_proliferation_rate = 0.97 * (1 / ureg.hr)\n",
    "endothelial_cells_proliferation_rate_max = 1.3 * (1 / ureg.hr)"
   ]
  },
  {
   "cell_type": "markdown",
   "metadata": {
    "collapsed": false
   },
   "source": [
    "Pairing this value to the *in silico* maximum proliferation rate, which is $\\alpha_p T_p$, we get:"
   ]
  },
  {
   "cell_type": "code",
   "execution_count": 25,
   "metadata": {
    "ExecuteTime": {
     "end_time": "2023-11-15T09:03:22.496201022Z",
     "start_time": "2023-11-15T09:03:21.026343540Z"
    },
    "collapsed": false
   },
   "outputs": [
    {
     "name": "stdout",
     "output_type": "stream",
     "text": [
      "alpha_p: 1.4 / AFsArbitraryUnit / TimeArbitraryUnit\n"
     ]
    }
   ],
   "source": [
    "alpha_p_min = endothelial_cells_proliferation_rate_min.to(\"1 / tau\") / T_p\n",
    "alpha_p = endothelial_cells_proliferation_rate.to(\"1 / tau\") / T_p\n",
    "alpha_p_max = endothelial_cells_proliferation_rate_max.to(\"1 / tau\") / T_p\n",
    "alpha_p_min = alpha_p_min.to_compact()\n",
    "alpha_p = alpha_p.to_compact()\n",
    "alpha_p_max = alpha_p_max.to_compact()\n",
    "print(f\"alpha_p_min: {alpha_p_min:.2g}\")\n",
    "print(f\"alpha_p: {alpha_p:.2g}\")\n",
    "print(f\"alpha_p_max: {alpha_p_max:.2g}\")"
   ]
  },
  {
   "cell_type": "markdown",
   "metadata": {
    "collapsed": false
   },
   "source": [
    "Which is in agreement with the value used by Vilanova et al. (2016)."
   ]
  },
  {
   "cell_type": "code",
   "execution_count": 26,
   "metadata": {
    "ExecuteTime": {
     "end_time": "2023-11-15T09:03:22.496307535Z",
     "start_time": "2023-11-15T09:03:21.026531185Z"
    },
    "collapsed": false
   },
   "outputs": [],
   "source": [
    "alpha_p_min_real = alpha_p_min.to(\"(mL / pg) * (1 / hr)\")\n",
    "alpha_p_real = alpha_p.to(\"(mL / pg) * (1 / hr)\")\n",
    "alpha_p_max_real = alpha_p_max.to(\"(mL / pg) * (1 / hr)\")"
   ]
  },
  {
   "cell_type": "code",
   "execution_count": 27,
   "metadata": {
    "ExecuteTime": {
     "end_time": "2023-11-15T09:03:22.496398438Z",
     "start_time": "2023-11-15T09:03:21.026631338Z"
    },
    "collapsed": false
   },
   "outputs": [],
   "source": [
    "g_parameters_df = fill_parameters(g_parameters_df,\n",
    "                                  name=\"alpha_p\",\n",
    "                                  info=\"Endothelial cells proliferation rate\",\n",
    "                                  real_value=alpha_p_real.magnitude,\n",
    "                                  real_range_max=alpha_p_max_real.magnitude,\n",
    "                                  real_range_min=alpha_p_min_real.magnitude,\n",
    "                                  real_um=alpha_p_real.units,\n",
    "                                  sim_value=alpha_p.magnitude,\n",
    "                                  sim_range_max=alpha_p_max.magnitude,\n",
    "                                  sim_range_min=alpha_p_min.magnitude,\n",
    "                                  sim_um=alpha_p.units)"
   ]
  },
  {
   "cell_type": "markdown",
   "metadata": {
    "collapsed": false
   },
   "source": [
    "### Minimum angiogenic factor concentration for tip cells activation ($T_c$)\n",
    "\n",
    "Despite difficult to measure, a threshold in AF concentration for tip cell activation is likely to exist, since they need to bind to cellular surface receptors to influence cells behaviour. Song M. & Finley S.D. (2022) observed a shift in VEGF-mediated sprouting angiogenesis in correspondence of a VEGF concentration of $3 [\\frac{ng}{mL}]$:"
   ]
  },
  {
   "cell_type": "code",
   "execution_count": 28,
   "metadata": {
    "ExecuteTime": {
     "end_time": "2023-11-15T09:03:22.497079886Z",
     "start_time": "2023-11-15T09:03:21.027058879Z"
    },
    "collapsed": false
   },
   "outputs": [
    {
     "name": "stdout",
     "output_type": "stream",
     "text": [
      "T_c: 3.0 nanogram / milliliter (real) | 0.5000000000000001 AFsArbitraryUnit (sim)\n"
     ]
    }
   ],
   "source": [
    "T_c_real = 3 * ureg(\"ng / mL\")\n",
    "T_c_sim = T_c_real.to(\"afau\")\n",
    "\n",
    "print(f\"T_c: {T_c_real} (real) | {T_c_sim} (sim)\")\n",
    "\n",
    "g_parameters_df = fill_parameters(g_parameters_df,\n",
    "                                  name=\"T_c\",\n",
    "                                  info=\"Minimum af for Tip Cells Activation\",\n",
    "                                  real_value=T_c_real.magnitude,\n",
    "                                  real_um=T_c_real.units,\n",
    "                                  sim_value=T_c_sim.magnitude,\n",
    "                                  sim_um=T_c_sim.units,\n",
    "                                  references=\"Song, M. & Finley, S.D.Mechanistic characterization of endothelial sprouting mediated by pro-angiogenic signaling. Microcirculation 29, e12744(2022).\")"
   ]
  },
  {
   "cell_type": "markdown",
   "metadata": {
    "collapsed": false
   },
   "source": [
    "### Mimimum angiogenic factor gradient for Tip Cells activation ($G_m$)\n",
    "From Shamloo et al (2008) we have:"
   ]
  },
  {
   "cell_type": "code",
   "execution_count": 29,
   "metadata": {
    "ExecuteTime": {
     "end_time": "2023-11-15T09:03:22.497281881Z",
     "start_time": "2023-11-15T09:03:21.070365787Z"
    },
    "collapsed": false
   },
   "outputs": [
    {
     "name": "stdout",
     "output_type": "stream",
     "text": [
      "## G_m\n",
      "real: 14.0 nanogram / milliliter / millimeter\n",
      "sim : 1.8666666666666667 AFsArbitraryUnit / SpaceArbitraryUnit\n"
     ]
    }
   ],
   "source": [
    "G_m_real = 14 * ureg(\"ng / (mL * mm)\")\n",
    "# converting to arbitrary units:\n",
    "G_m_sim = G_m_real.to(\"afau / sau\")\n",
    "print(f\"## G_m\\n\"\n",
    "      f\"real: {G_m_real}\\n\"\n",
    "      f\"sim : {G_m_sim}\")"
   ]
  },
  {
   "cell_type": "code",
   "execution_count": 30,
   "metadata": {
    "ExecuteTime": {
     "end_time": "2023-11-15T09:03:22.497373344Z",
     "start_time": "2023-11-15T09:03:21.070573543Z"
    },
    "collapsed": false
   },
   "outputs": [],
   "source": [
    "g_parameters_df = fill_parameters(g_parameters_df,\n",
    "                                  name=\"G_m\",\n",
    "                                  info=\"Minimum af gradient required for Tip Cells Activation\",\n",
    "                                  real_value=G_m_real.magnitude,\n",
    "                                  real_um=G_m_real.units,\n",
    "                                  sim_value=G_m_sim.magnitude,\n",
    "                                  sim_um=G_m_sim.units,\n",
    "                                  references=\"Shamloo, A., Ma, N., Poo, M. M., Sohn, L. L., & Heilshorn, S. C. (2008). Endothelial cell polarization and chemotaxis in a microfluidic device. Lab on a Chip, 8(8), 1292-1299. https://doi.org/10.1039/B719788H\")"
   ]
  },
  {
   "cell_type": "markdown",
   "metadata": {
    "collapsed": false
   },
   "source": [
    "### Minimum value for capillaries field c to allow Tip Cells activation ($\\varphi_{th}$)\n",
    "\n",
    "Tip cells can originate only inside the already formed capillaries. Thus, we set:"
   ]
  },
  {
   "cell_type": "code",
   "execution_count": 31,
   "metadata": {
    "ExecuteTime": {
     "end_time": "2023-11-15T09:03:22.497462286Z",
     "start_time": "2023-11-15T09:03:21.070676986Z"
    },
    "collapsed": false
   },
   "outputs": [],
   "source": [
    "phi_th = 0.9"
   ]
  },
  {
   "cell_type": "markdown",
   "metadata": {
    "collapsed": false
   },
   "source": [
    "And have:"
   ]
  },
  {
   "cell_type": "code",
   "execution_count": 32,
   "metadata": {
    "ExecuteTime": {
     "end_time": "2023-11-15T09:03:22.497549259Z",
     "start_time": "2023-11-15T09:03:21.070771998Z"
    },
    "collapsed": false
   },
   "outputs": [],
   "source": [
    "g_parameters_df = fill_parameters(g_parameters_df,\n",
    "                                  name=\"phi_th\",\n",
    "                                  info=\"Minimum capillaries field value for Tip Cells activation\",\n",
    "                                  sim_value=phi_th)"
   ]
  },
  {
   "cell_type": "markdown",
   "metadata": {
    "collapsed": false
   },
   "source": [
    "### Gradient for maximum tip cells velocity ($G_M$)\n",
    "According to Travasso et al. (2011):"
   ]
  },
  {
   "cell_type": "code",
   "execution_count": 33,
   "metadata": {
    "ExecuteTime": {
     "end_time": "2023-11-15T09:03:22.497742284Z",
     "start_time": "2023-11-15T09:03:21.070870601Z"
    },
    "collapsed": false
   },
   "outputs": [
    {
     "name": "stdout",
     "output_type": "stream",
     "text": [
      "G_M: \n",
      "     (real) 42 nanogram / milliliter / millimeter\n",
      "     (sim)  5.6 AFsArbitraryUnit / SpaceArbitraryUnit\n"
     ]
    }
   ],
   "source": [
    "G_M_real = 3 * G_m_real\n",
    "G_M_sim = 3 * G_m_sim\n",
    "\n",
    "print(f\"G_M: \\n\"\n",
    "      f\"     (real) {G_M_real:.2g}\\n\"\n",
    "      f\"     (sim)  {G_M_sim:.2g}\")"
   ]
  },
  {
   "cell_type": "markdown",
   "metadata": {
    "collapsed": false
   },
   "source": [
    "This value is estimated by Stokes et al. (1991):"
   ]
  },
  {
   "cell_type": "code",
   "execution_count": 34,
   "metadata": {
    "ExecuteTime": {
     "end_time": "2023-11-15T09:03:22.497832996Z",
     "start_time": "2023-11-15T09:03:21.071039985Z"
    },
    "collapsed": false
   },
   "outputs": [],
   "source": [
    "g_parameters_df = fill_parameters(g_parameters_df,\n",
    "                                  name=\"G_M\",\n",
    "                                  info=\"af gradient for maximum tip cells velocity\",\n",
    "                                  real_value=G_M_real.magnitude,\n",
    "                                  real_um=G_M_real.units,\n",
    "                                  sim_value=G_M_sim.magnitude,\n",
    "                                  sim_um=G_M_sim.units)"
   ]
  },
  {
   "cell_type": "markdown",
   "metadata": {
    "collapsed": false
   },
   "source": [
    "### Extreme values for capillaries field ($\\varphi_{min}$ and $\\varphi_{max}$)\n",
    "\n",
    "For the system construction, these values are just 1 and -1:"
   ]
  },
  {
   "cell_type": "code",
   "execution_count": 35,
   "metadata": {
    "ExecuteTime": {
     "end_time": "2023-11-15T09:03:22.497917978Z",
     "start_time": "2023-11-15T09:03:21.080759665Z"
    },
    "collapsed": false
   },
   "outputs": [],
   "source": [
    "phi_min = -1  # define minimum phi value\n",
    "\n",
    "# add it to parameters\n",
    "g_parameters_df = fill_parameters(g_parameters_df,\n",
    "                                  name=\"phi_min\",\n",
    "                                  info=\"Min capillaries field value\",\n",
    "                                  sim_value=phi_min)\n",
    "\n",
    "phi_max = 1  # define maximum phi value\n",
    "\n",
    "# add it to parameters\n",
    "g_parameters_df = fill_parameters(g_parameters_df,\n",
    "                                  name=\"phi_max\",\n",
    "                                  info=\"Max capillaries field value\",\n",
    "                                  sim_value=phi_max)"
   ]
  },
  {
   "cell_type": "markdown",
   "metadata": {
    "collapsed": false
   },
   "source": [
    "### Motility value for capillaries phase field ($M$)\n",
    "\n",
    "Travasso et al. assume this value to be $10^{-15} [\\frac{m^2}{s}]$. We assume the same:"
   ]
  },
  {
   "cell_type": "code",
   "execution_count": 36,
   "metadata": {
    "ExecuteTime": {
     "end_time": "2023-11-15T09:03:22.498822823Z",
     "start_time": "2023-11-15T09:03:21.084245779Z"
    },
    "collapsed": false
   },
   "outputs": [],
   "source": [
    "M_real = 1e-15 * ureg(\"m ** 2 / s\")\n",
    "M_real = M_real.to(\"mm ** 2 / s\")\n",
    "M_sim = M_real.to(\"sau ** 2 / tau\")\n",
    "\n",
    "g_parameters_df = fill_parameters(g_parameters_df,\n",
    "                                  name=\"M\",\n",
    "                                  info=\"'Motility' for the capillaries phase field\",\n",
    "                                  real_value=M_real.magnitude,\n",
    "                                  real_um=M_real.units,\n",
    "                                  sim_value=M_sim.magnitude,\n",
    "                                  sim_um=M_sim.units)"
   ]
  },
  {
   "cell_type": "markdown",
   "metadata": {
    "collapsed": false
   },
   "source": [
    "### Chemotactic coefficient for tip cells ($\\chi$)\n",
    "\n",
    "Travasso assumes that the maximum tip cells velocity is in the order of (Figure 1; Travasso et al. 2011):"
   ]
  },
  {
   "cell_type": "code",
   "execution_count": 37,
   "metadata": {
    "ExecuteTime": {
     "end_time": "2023-11-15T09:03:22.499062539Z",
     "start_time": "2023-11-15T09:03:21.126339863Z"
    },
    "collapsed": false
   },
   "outputs": [
    {
     "name": "stdout",
     "output_type": "stream",
     "text": [
      "max tip cells velocity (real): 0.35 micrometer / minute\n",
      "max tip cells velocity (sim): 0.011 SpaceArbitraryUnit / TimeArbitraryUnit\n"
     ]
    }
   ],
   "source": [
    "max_tip_cells_velocity_real = 0.35 * (ureg.um / ureg.min)\n",
    "print(f\"max tip cells velocity (real): {max_tip_cells_velocity_real:.2g}\")\n",
    "max_tip_cells_velocity_sim = max_tip_cells_velocity_real.to(\"sau / tau\")\n",
    "print(f\"max tip cells velocity (sim): {max_tip_cells_velocity_sim:.2g}\")"
   ]
  },
  {
   "cell_type": "markdown",
   "metadata": {
    "collapsed": false
   },
   "source": [
    "And recent experiments confirm this result. Blinder Y.J. et al. (2015) report an average tip cell velocity of $17 \\frac{\\mu m}{hr} =  0.28 \\frac{\\mu m}{min}$."
   ]
  },
  {
   "cell_type": "markdown",
   "metadata": {
    "collapsed": false
   },
   "source": [
    "This leads to a $\\chi$ value of:"
   ]
  },
  {
   "cell_type": "code",
   "execution_count": 38,
   "metadata": {
    "ExecuteTime": {
     "end_time": "2023-11-15T09:03:22.499266864Z",
     "start_time": "2023-11-15T09:03:21.126515008Z"
    },
    "collapsed": false
   },
   "outputs": [
    {
     "name": "stdout",
     "output_type": "stream",
     "text": [
      "chi (sim): 0.002 SpaceArbitraryUnit ** 2 / AFsArbitraryUnit / TimeArbitraryUnit\n",
      "chi (real): 0.0083 micrometer * milliliter * millimeter / minute / nanogram\n"
     ]
    }
   ],
   "source": [
    "chi_sim = max_tip_cells_velocity_sim / G_M_sim\n",
    "print(f\"chi (sim): {chi_sim:.2g}\")\n",
    "chi_real = max_tip_cells_velocity_real / G_M_real\n",
    "print(f\"chi (real): {chi_real:.2g}\")"
   ]
  },
  {
   "cell_type": "code",
   "execution_count": 39,
   "metadata": {
    "ExecuteTime": {
     "end_time": "2023-11-15T09:03:22.499358477Z",
     "start_time": "2023-11-15T09:03:21.126625181Z"
    },
    "collapsed": false
   },
   "outputs": [],
   "source": [
    "g_parameters_df = fill_parameters(g_parameters_df,\n",
    "                                  name=\"chi\",\n",
    "                                  info=\"chemotactic constant for tip cells\",\n",
    "                                  real_value=chi_real.magnitude,\n",
    "                                  real_um=chi_real.units,\n",
    "                                  sim_value=chi_sim.magnitude,\n",
    "                                  sim_um=chi_sim.units)"
   ]
  },
  {
   "cell_type": "markdown",
   "metadata": {
    "collapsed": false
   },
   "source": [
    "### Minimum Tip Cells distance\n",
    "The generation of new Tip Cells is inhibited by other Tip Cells due to the Notch Pathway. This mechanism prevents the formation of two neighbor tip cells, thus, Travasso et al. (2011) assumed that exists a minimum distance for the activation of two tip cells equal to 4 cell radiuses:"
   ]
  },
  {
   "cell_type": "code",
   "execution_count": 40,
   "metadata": {
    "ExecuteTime": {
     "end_time": "2023-11-15T09:03:22.499548822Z",
     "start_time": "2023-11-15T09:03:21.126720803Z"
    },
    "collapsed": false
   },
   "outputs": [
    {
     "name": "stdout",
     "output_type": "stream",
     "text": [
      "min tipcell distance: \n",
      "                      (real) 40 micrometer\n",
      "                      (sim)  0.05 SpaceArbitraryUnit\n"
     ]
    }
   ],
   "source": [
    "min_tipcell_distance_real = 4 * R_c\n",
    "min_tipcell_distance_sim = min_tipcell_distance_real.to(\"sau\")\n",
    "\n",
    "print(f\"min tipcell distance: \\n\"\n",
    "      f\"                      (real) {min_tipcell_distance_real:.2g}\\n\"\n",
    "      f\"                      (sim)  {min_tipcell_distance_sim:.2g}\")"
   ]
  },
  {
   "cell_type": "code",
   "execution_count": 41,
   "metadata": {
    "ExecuteTime": {
     "end_time": "2023-11-15T09:03:22.499640284Z",
     "start_time": "2023-11-15T09:03:21.126882728Z"
    },
    "collapsed": false
   },
   "outputs": [],
   "source": [
    "g_parameters_df = fill_parameters(g_parameters_df,\n",
    "                                  name=\"min_tipcell_distance\",\n",
    "                                  info=\"Min Tip Cells distance (due to Notch pathway)\",\n",
    "                                  real_value=min_tipcell_distance_real.magnitude,\n",
    "                                  real_um=min_tipcell_distance_real.units,\n",
    "                                  sim_value=min_tipcell_distance_sim.magnitude,\n",
    "                                  sim_um=min_tipcell_distance_sim.units)"
   ]
  },
  {
   "cell_type": "markdown",
   "metadata": {
    "collapsed": false
   },
   "source": [
    "## Tumor parameters\n",
    "\n",
    "### Initial tumor dimension factor\n",
    "The dimension of each tumor is reported in the `input_patients_data/patients_parameters.json` file. With the initial tumor dimension factor, the user can control the initial dimension of the tumor as a fraction of the initial volume. For instance, an initial tumor dimension ratio of 0.5, will make the simulation start with all the axes of the tumor equal to the 50% of their actual dimension.\n"
   ]
  },
  {
   "cell_type": "code",
   "execution_count": 42,
   "metadata": {
    "ExecuteTime": {
     "end_time": "2023-11-15T09:03:22.499727067Z",
     "start_time": "2023-11-15T09:03:21.163783685Z"
    },
    "collapsed": false
   },
   "outputs": [],
   "source": [
    "initial_tumor_dimension_factor = 1\n",
    "\n",
    "g_parameters_df = fill_parameters(g_parameters_df,\n",
    "                                  name=\"tdf_i\",\n",
    "                                  info=\"Initial Tumor Dimension factor\",\n",
    "                                  real_value=initial_tumor_dimension_factor,\n",
    "                                  real_um=\"None\",\n",
    "                                  sim_value=initial_tumor_dimension_factor,\n",
    "                                  sim_um=\"None\",\n",
    "                                  references=\"None\")"
   ]
  },
  {
   "cell_type": "markdown",
   "metadata": {
    "collapsed": false
   },
   "source": [
    "### Tumor Growth Rate\n",
    "The average growth for CNS hemangioblastoma related to VHL (we could not find data for Retinal Hemangioblastoma) has been reported to be in the order of 0.35% per year. This means that, given an initial volume $V_i$, the volume evolution in time can be described by $V(t) = V_i \\cdot 1.35^{t}$, where t is in [years]. (Ye D. et al.; 2012)\n",
    "\n",
    "Given that 1 year correspond to:"
   ]
  },
  {
   "cell_type": "code",
   "execution_count": 43,
   "metadata": {
    "ExecuteTime": {
     "end_time": "2023-11-15T09:03:22.499912072Z",
     "start_time": "2023-11-15T09:03:21.163956819Z"
    },
    "collapsed": false
   },
   "outputs": [
    {
     "name": "stdout",
     "output_type": "stream",
     "text": [
      "20229.23076923077 TimeArbitraryUnit\n"
     ]
    }
   ],
   "source": [
    "year_in_tau = (1 * ureg(\"year\")).to(\"tau\")\n",
    "print(year_in_tau)"
   ]
  },
  {
   "cell_type": "markdown",
   "metadata": {
    "collapsed": false
   },
   "source": [
    "The growth rate in terms of tau is $1.3^{\\frac{1}{year_in_tau}}$:"
   ]
  },
  {
   "cell_type": "code",
   "execution_count": 44,
   "metadata": {
    "ExecuteTime": {
     "end_time": "2023-11-15T09:03:22.500099937Z",
     "start_time": "2023-11-15T09:03:21.164103893Z"
    },
    "collapsed": false
   },
   "outputs": [
    {
     "name": "stdout",
     "output_type": "stream",
     "text": [
      "1.0000148353055012\n",
      "1.0000200437266367\n"
     ]
    }
   ],
   "source": [
    "tgr = 1.35 ** (1 / year_in_tau.magnitude)\n",
    "tgr_max = 1.5 ** (1 / year_in_tau.magnitude)\n",
    "print(tgr)\n",
    "print(tgr_max)"
   ]
  },
  {
   "cell_type": "code",
   "execution_count": 45,
   "metadata": {
    "ExecuteTime": {
     "end_time": "2023-11-15T09:03:22.500192899Z",
     "start_time": "2023-11-15T09:03:21.164223096Z"
    },
    "collapsed": false
   },
   "outputs": [],
   "source": [
    "g_parameters_df = fill_parameters(g_parameters_df,\n",
    "                                  name=\"tgr\",\n",
    "                                  info=\"Tumor growth rate\",\n",
    "                                  real_value=1.35,\n",
    "                                  real_range_max=1.5,\n",
    "                                  real_um=\"volume fraction per year\",\n",
    "                                  sim_value=tgr,\n",
    "                                  sim_range_max=tgr_max,\n",
    "                                  sim_um=\"volume fraction per tau\",\n",
    "                                  references=\"Estimated using Ye D. et al. (2012)\")"
   ]
  },
  {
   "cell_type": "markdown",
   "metadata": {
    "collapsed": false
   },
   "source": [
    "# Complete parameters\n",
    "The complete parameters table is:"
   ]
  },
  {
   "cell_type": "code",
   "execution_count": 46,
   "metadata": {
    "ExecuteTime": {
     "end_time": "2023-11-15T09:03:22.502050349Z",
     "start_time": "2023-11-15T09:03:21.164328419Z"
    },
    "collapsed": false
   },
   "outputs": [
    {
     "data": {
      "text/html": [
       "<div>\n",
       "<style scoped>\n",
       "    .dataframe tbody tr th:only-of-type {\n",
       "        vertical-align: middle;\n",
       "    }\n",
       "\n",
       "    .dataframe tbody tr th {\n",
       "        vertical-align: top;\n",
       "    }\n",
       "\n",
       "    .dataframe thead th {\n",
       "        text-align: right;\n",
       "    }\n",
       "</style>\n",
       "<table border=\"1\" class=\"dataframe\">\n",
       "  <thead>\n",
       "    <tr style=\"text-align: right;\">\n",
       "      <th></th>\n",
       "      <th>info</th>\n",
       "      <th>real_value</th>\n",
       "      <th>real_range_max</th>\n",
       "      <th>real_range_min</th>\n",
       "      <th>real_um</th>\n",
       "      <th>sim_value</th>\n",
       "      <th>sim_range_max</th>\n",
       "      <th>sim_range_min</th>\n",
       "      <th>sim_um</th>\n",
       "      <th>references</th>\n",
       "    </tr>\n",
       "    <tr>\n",
       "      <th>name</th>\n",
       "      <th></th>\n",
       "      <th></th>\n",
       "      <th></th>\n",
       "      <th></th>\n",
       "      <th></th>\n",
       "      <th></th>\n",
       "      <th></th>\n",
       "      <th></th>\n",
       "      <th></th>\n",
       "      <th></th>\n",
       "    </tr>\n",
       "  </thead>\n",
       "  <tbody>\n",
       "    <tr>\n",
       "      <th>SpaceArbitraryUnit</th>\n",
       "      <td>None</td>\n",
       "      <td>800</td>\n",
       "      <td>NaN</td>\n",
       "      <td>NaN</td>\n",
       "      <td>micrometer</td>\n",
       "      <td>1.000000</td>\n",
       "      <td>NaN</td>\n",
       "      <td>NaN</td>\n",
       "      <td>SpaceArbitraryUnit</td>\n",
       "      <td>None</td>\n",
       "    </tr>\n",
       "    <tr>\n",
       "      <th>TimeArbitraryUnit</th>\n",
       "      <td>None</td>\n",
       "      <td>26</td>\n",
       "      <td>NaN</td>\n",
       "      <td>NaN</td>\n",
       "      <td>minute</td>\n",
       "      <td>1.000000</td>\n",
       "      <td>NaN</td>\n",
       "      <td>NaN</td>\n",
       "      <td>TimeArbitraryUnit</td>\n",
       "      <td>None</td>\n",
       "    </tr>\n",
       "    <tr>\n",
       "      <th>AFsArbitraryUnit</th>\n",
       "      <td>None</td>\n",
       "      <td>6000.0</td>\n",
       "      <td>NaN</td>\n",
       "      <td>NaN</td>\n",
       "      <td>picogram / milliliter</td>\n",
       "      <td>1.000000</td>\n",
       "      <td>NaN</td>\n",
       "      <td>NaN</td>\n",
       "      <td>afau</td>\n",
       "      <td>None</td>\n",
       "    </tr>\n",
       "    <tr>\n",
       "      <th>D_af</th>\n",
       "      <td>Diffusivity of angiogenic factor</td>\n",
       "      <td>0.000042</td>\n",
       "      <td>0.000065</td>\n",
       "      <td>0.000019</td>\n",
       "      <td>millimeter ** 2 / second</td>\n",
       "      <td>0.103389</td>\n",
       "      <td>0.159315</td>\n",
       "      <td>0.047463</td>\n",
       "      <td>SpaceArbitraryUnit ** 2 / TimeArbitraryUnit</td>\n",
       "      <td>Estimated from Kihara, T., Ito, J., &amp; Miyake, ...</td>\n",
       "    </tr>\n",
       "    <tr>\n",
       "      <th>V_d_af</th>\n",
       "      <td>Angiogenic factor degradation rate</td>\n",
       "      <td>0.918</td>\n",
       "      <td>1.008</td>\n",
       "      <td>0.828</td>\n",
       "      <td>1 / hour</td>\n",
       "      <td>0.397800</td>\n",
       "      <td>0.4368</td>\n",
       "      <td>0.3588</td>\n",
       "      <td>1 / TimeArbitraryUnit</td>\n",
       "      <td>Vempati, P., Popel, A. S., &amp; Gabhann, F. Mac. ...</td>\n",
       "    </tr>\n",
       "    <tr>\n",
       "      <th>V_pT_af</th>\n",
       "      <td>Angiogenic factor production rate inside the t...</td>\n",
       "      <td>47.274727</td>\n",
       "      <td>47.274727</td>\n",
       "      <td>0.0333</td>\n",
       "      <td>1 / hour</td>\n",
       "      <td>12.291429</td>\n",
       "      <td>12.291429</td>\n",
       "      <td>0.008658</td>\n",
       "      <td>afau / tau</td>\n",
       "      <td>Estimated from Finley, S. D., Dhar, M., &amp; Pope...</td>\n",
       "    </tr>\n",
       "    <tr>\n",
       "      <th>V_uc_af</th>\n",
       "      <td>Angiogenic factor uptake in capillaries</td>\n",
       "      <td>0.828</td>\n",
       "      <td>8280.0</td>\n",
       "      <td>0.828</td>\n",
       "      <td>1 / hour</td>\n",
       "      <td>0.358800</td>\n",
       "      <td>3588.0</td>\n",
       "      <td>0.3588</td>\n",
       "      <td>1 / tau</td>\n",
       "      <td>Estimated from degradation</td>\n",
       "    </tr>\n",
       "    <tr>\n",
       "      <th>R_c</th>\n",
       "      <td>Cell radius</td>\n",
       "      <td>10</td>\n",
       "      <td>None</td>\n",
       "      <td>None</td>\n",
       "      <td>micrometer</td>\n",
       "      <td>0.012500</td>\n",
       "      <td>None</td>\n",
       "      <td>None</td>\n",
       "      <td>SpaceArbitraryUnit</td>\n",
       "      <td>Milo et al. Nucl. Acids Res. (2010) 38 (suppl ...</td>\n",
       "    </tr>\n",
       "    <tr>\n",
       "      <th>epsilon</th>\n",
       "      <td>Interface width</td>\n",
       "      <td>1.5625</td>\n",
       "      <td>None</td>\n",
       "      <td>None</td>\n",
       "      <td>micrometer ** 2</td>\n",
       "      <td>0.000002</td>\n",
       "      <td>None</td>\n",
       "      <td>None</td>\n",
       "      <td>SpaceArbitraryUnit ** 2</td>\n",
       "      <td>Same provied by Travasso, R. D. M., Poire, E. ...</td>\n",
       "    </tr>\n",
       "    <tr>\n",
       "      <th>dt</th>\n",
       "      <td>Simulation time step</td>\n",
       "      <td>26</td>\n",
       "      <td>None</td>\n",
       "      <td>None</td>\n",
       "      <td>minute</td>\n",
       "      <td>1.000000</td>\n",
       "      <td>None</td>\n",
       "      <td>None</td>\n",
       "      <td>TimeArbitraryUnit</td>\n",
       "      <td>Same provied by Travasso, R. D. M., Poire, E. ...</td>\n",
       "    </tr>\n",
       "    <tr>\n",
       "      <th>T_p</th>\n",
       "      <td>Angiogenic factor concentration for maximum pr...</td>\n",
       "      <td>1800.0</td>\n",
       "      <td>None</td>\n",
       "      <td>None</td>\n",
       "      <td>picogram / milliliter</td>\n",
       "      <td>0.300000</td>\n",
       "      <td>None</td>\n",
       "      <td>None</td>\n",
       "      <td>AFsArbitraryUnit</td>\n",
       "      <td>None</td>\n",
       "    </tr>\n",
       "    <tr>\n",
       "      <th>alpha_p</th>\n",
       "      <td>Endothelial cells proliferation rate</td>\n",
       "      <td>0.000539</td>\n",
       "      <td>None</td>\n",
       "      <td>None</td>\n",
       "      <td>milliliter / hour / picogram</td>\n",
       "      <td>1.401111</td>\n",
       "      <td>None</td>\n",
       "      <td>None</td>\n",
       "      <td>1 / AFsArbitraryUnit / TimeArbitraryUnit</td>\n",
       "      <td>None</td>\n",
       "    </tr>\n",
       "    <tr>\n",
       "      <th>T_c</th>\n",
       "      <td>Minimum af for Tip Cells Activation</td>\n",
       "      <td>3.0</td>\n",
       "      <td>None</td>\n",
       "      <td>None</td>\n",
       "      <td>nanogram / milliliter</td>\n",
       "      <td>0.500000</td>\n",
       "      <td>None</td>\n",
       "      <td>None</td>\n",
       "      <td>AFsArbitraryUnit</td>\n",
       "      <td>Song, M. &amp; Finley, S.D.Mechanistic characteriz...</td>\n",
       "    </tr>\n",
       "    <tr>\n",
       "      <th>G_m</th>\n",
       "      <td>Minimum af gradient required for Tip Cells Act...</td>\n",
       "      <td>14.0</td>\n",
       "      <td>None</td>\n",
       "      <td>None</td>\n",
       "      <td>nanogram / milliliter / millimeter</td>\n",
       "      <td>1.866667</td>\n",
       "      <td>None</td>\n",
       "      <td>None</td>\n",
       "      <td>AFsArbitraryUnit / SpaceArbitraryUnit</td>\n",
       "      <td>Shamloo, A., Ma, N., Poo, M. M., Sohn, L. L., ...</td>\n",
       "    </tr>\n",
       "    <tr>\n",
       "      <th>phi_th</th>\n",
       "      <td>Minimum capillaries field value for Tip Cells ...</td>\n",
       "      <td>None</td>\n",
       "      <td>None</td>\n",
       "      <td>None</td>\n",
       "      <td>None</td>\n",
       "      <td>0.900000</td>\n",
       "      <td>None</td>\n",
       "      <td>None</td>\n",
       "      <td>None</td>\n",
       "      <td>None</td>\n",
       "    </tr>\n",
       "    <tr>\n",
       "      <th>G_M</th>\n",
       "      <td>af gradient for maximum tip cells velocity</td>\n",
       "      <td>42.0</td>\n",
       "      <td>None</td>\n",
       "      <td>None</td>\n",
       "      <td>nanogram / milliliter / millimeter</td>\n",
       "      <td>5.600000</td>\n",
       "      <td>None</td>\n",
       "      <td>None</td>\n",
       "      <td>AFsArbitraryUnit / SpaceArbitraryUnit</td>\n",
       "      <td>None</td>\n",
       "    </tr>\n",
       "    <tr>\n",
       "      <th>phi_min</th>\n",
       "      <td>Min capillaries field value</td>\n",
       "      <td>None</td>\n",
       "      <td>None</td>\n",
       "      <td>None</td>\n",
       "      <td>None</td>\n",
       "      <td>-1.000000</td>\n",
       "      <td>None</td>\n",
       "      <td>None</td>\n",
       "      <td>None</td>\n",
       "      <td>None</td>\n",
       "    </tr>\n",
       "    <tr>\n",
       "      <th>phi_max</th>\n",
       "      <td>Max capillaries field value</td>\n",
       "      <td>None</td>\n",
       "      <td>None</td>\n",
       "      <td>None</td>\n",
       "      <td>None</td>\n",
       "      <td>1.000000</td>\n",
       "      <td>None</td>\n",
       "      <td>None</td>\n",
       "      <td>None</td>\n",
       "      <td>None</td>\n",
       "    </tr>\n",
       "    <tr>\n",
       "      <th>M</th>\n",
       "      <td>'Motility' for the capillaries phase field</td>\n",
       "      <td>0.0</td>\n",
       "      <td>None</td>\n",
       "      <td>None</td>\n",
       "      <td>millimeter ** 2 / second</td>\n",
       "      <td>0.000002</td>\n",
       "      <td>None</td>\n",
       "      <td>None</td>\n",
       "      <td>SpaceArbitraryUnit ** 2 / TimeArbitraryUnit</td>\n",
       "      <td>None</td>\n",
       "    </tr>\n",
       "    <tr>\n",
       "      <th>chi</th>\n",
       "      <td>chemotactic constant for tip cells</td>\n",
       "      <td>0.008333</td>\n",
       "      <td>None</td>\n",
       "      <td>None</td>\n",
       "      <td>micrometer * milliliter * millimeter / minute ...</td>\n",
       "      <td>0.002031</td>\n",
       "      <td>None</td>\n",
       "      <td>None</td>\n",
       "      <td>SpaceArbitraryUnit ** 2 / AFsArbitraryUnit / T...</td>\n",
       "      <td>None</td>\n",
       "    </tr>\n",
       "    <tr>\n",
       "      <th>min_tipcell_distance</th>\n",
       "      <td>Min Tip Cells distance (due to Notch pathway)</td>\n",
       "      <td>40</td>\n",
       "      <td>None</td>\n",
       "      <td>None</td>\n",
       "      <td>micrometer</td>\n",
       "      <td>0.050000</td>\n",
       "      <td>None</td>\n",
       "      <td>None</td>\n",
       "      <td>SpaceArbitraryUnit</td>\n",
       "      <td>None</td>\n",
       "    </tr>\n",
       "    <tr>\n",
       "      <th>tdf_i</th>\n",
       "      <td>Initial Tumor Dimension factor</td>\n",
       "      <td>1</td>\n",
       "      <td>None</td>\n",
       "      <td>None</td>\n",
       "      <td>None</td>\n",
       "      <td>1.000000</td>\n",
       "      <td>None</td>\n",
       "      <td>None</td>\n",
       "      <td>None</td>\n",
       "      <td>None</td>\n",
       "    </tr>\n",
       "    <tr>\n",
       "      <th>tgr</th>\n",
       "      <td>Tumor growth rate</td>\n",
       "      <td>1.35</td>\n",
       "      <td>1.5</td>\n",
       "      <td>None</td>\n",
       "      <td>volume fraction per year</td>\n",
       "      <td>1.000015</td>\n",
       "      <td>1.00002</td>\n",
       "      <td>None</td>\n",
       "      <td>volume fraction per tau</td>\n",
       "      <td>Estimated using Ye D. et al. (2012)</td>\n",
       "    </tr>\n",
       "  </tbody>\n",
       "</table>\n",
       "</div>"
      ],
      "text/plain": [
       "                                                                   info  \\\n",
       "name                                                                      \n",
       "SpaceArbitraryUnit                                                 None   \n",
       "TimeArbitraryUnit                                                  None   \n",
       "AFsArbitraryUnit                                                   None   \n",
       "D_af                                   Diffusivity of angiogenic factor   \n",
       "V_d_af                               Angiogenic factor degradation rate   \n",
       "V_pT_af               Angiogenic factor production rate inside the t...   \n",
       "V_uc_af                         Angiogenic factor uptake in capillaries   \n",
       "R_c                                                         Cell radius   \n",
       "epsilon                                                 Interface width   \n",
       "dt                                                 Simulation time step   \n",
       "T_p                   Angiogenic factor concentration for maximum pr...   \n",
       "alpha_p                            Endothelial cells proliferation rate   \n",
       "T_c                                 Minimum af for Tip Cells Activation   \n",
       "G_m                   Minimum af gradient required for Tip Cells Act...   \n",
       "phi_th                Minimum capillaries field value for Tip Cells ...   \n",
       "G_M                          af gradient for maximum tip cells velocity   \n",
       "phi_min                                     Min capillaries field value   \n",
       "phi_max                                     Max capillaries field value   \n",
       "M                            'Motility' for the capillaries phase field   \n",
       "chi                                  chemotactic constant for tip cells   \n",
       "min_tipcell_distance      Min Tip Cells distance (due to Notch pathway)   \n",
       "tdf_i                                    Initial Tumor Dimension factor   \n",
       "tgr                                                   Tumor growth rate   \n",
       "\n",
       "                     real_value real_range_max real_range_min  \\\n",
       "name                                                            \n",
       "SpaceArbitraryUnit          800            NaN            NaN   \n",
       "TimeArbitraryUnit            26            NaN            NaN   \n",
       "AFsArbitraryUnit         6000.0            NaN            NaN   \n",
       "D_af                   0.000042       0.000065       0.000019   \n",
       "V_d_af                    0.918          1.008          0.828   \n",
       "V_pT_af               47.274727      47.274727         0.0333   \n",
       "V_uc_af                   0.828         8280.0          0.828   \n",
       "R_c                          10           None           None   \n",
       "epsilon                  1.5625           None           None   \n",
       "dt                           26           None           None   \n",
       "T_p                      1800.0           None           None   \n",
       "alpha_p                0.000539           None           None   \n",
       "T_c                         3.0           None           None   \n",
       "G_m                        14.0           None           None   \n",
       "phi_th                     None           None           None   \n",
       "G_M                        42.0           None           None   \n",
       "phi_min                    None           None           None   \n",
       "phi_max                    None           None           None   \n",
       "M                           0.0           None           None   \n",
       "chi                    0.008333           None           None   \n",
       "min_tipcell_distance         40           None           None   \n",
       "tdf_i                         1           None           None   \n",
       "tgr                        1.35            1.5           None   \n",
       "\n",
       "                                                                real_um  \\\n",
       "name                                                                      \n",
       "SpaceArbitraryUnit                                           micrometer   \n",
       "TimeArbitraryUnit                                                minute   \n",
       "AFsArbitraryUnit                                  picogram / milliliter   \n",
       "D_af                                           millimeter ** 2 / second   \n",
       "V_d_af                                                         1 / hour   \n",
       "V_pT_af                                                        1 / hour   \n",
       "V_uc_af                                                        1 / hour   \n",
       "R_c                                                          micrometer   \n",
       "epsilon                                                 micrometer ** 2   \n",
       "dt                                                               minute   \n",
       "T_p                                               picogram / milliliter   \n",
       "alpha_p                                    milliliter / hour / picogram   \n",
       "T_c                                               nanogram / milliliter   \n",
       "G_m                                  nanogram / milliliter / millimeter   \n",
       "phi_th                                                             None   \n",
       "G_M                                  nanogram / milliliter / millimeter   \n",
       "phi_min                                                            None   \n",
       "phi_max                                                            None   \n",
       "M                                              millimeter ** 2 / second   \n",
       "chi                   micrometer * milliliter * millimeter / minute ...   \n",
       "min_tipcell_distance                                         micrometer   \n",
       "tdf_i                                                              None   \n",
       "tgr                                            volume fraction per year   \n",
       "\n",
       "                      sim_value sim_range_max sim_range_min  \\\n",
       "name                                                          \n",
       "SpaceArbitraryUnit     1.000000           NaN           NaN   \n",
       "TimeArbitraryUnit      1.000000           NaN           NaN   \n",
       "AFsArbitraryUnit       1.000000           NaN           NaN   \n",
       "D_af                   0.103389      0.159315      0.047463   \n",
       "V_d_af                 0.397800        0.4368        0.3588   \n",
       "V_pT_af               12.291429     12.291429      0.008658   \n",
       "V_uc_af                0.358800        3588.0        0.3588   \n",
       "R_c                    0.012500          None          None   \n",
       "epsilon                0.000002          None          None   \n",
       "dt                     1.000000          None          None   \n",
       "T_p                    0.300000          None          None   \n",
       "alpha_p                1.401111          None          None   \n",
       "T_c                    0.500000          None          None   \n",
       "G_m                    1.866667          None          None   \n",
       "phi_th                 0.900000          None          None   \n",
       "G_M                    5.600000          None          None   \n",
       "phi_min               -1.000000          None          None   \n",
       "phi_max                1.000000          None          None   \n",
       "M                      0.000002          None          None   \n",
       "chi                    0.002031          None          None   \n",
       "min_tipcell_distance   0.050000          None          None   \n",
       "tdf_i                  1.000000          None          None   \n",
       "tgr                    1.000015       1.00002          None   \n",
       "\n",
       "                                                                 sim_um  \\\n",
       "name                                                                      \n",
       "SpaceArbitraryUnit                                   SpaceArbitraryUnit   \n",
       "TimeArbitraryUnit                                     TimeArbitraryUnit   \n",
       "AFsArbitraryUnit                                                   afau   \n",
       "D_af                        SpaceArbitraryUnit ** 2 / TimeArbitraryUnit   \n",
       "V_d_af                                            1 / TimeArbitraryUnit   \n",
       "V_pT_af                                                      afau / tau   \n",
       "V_uc_af                                                         1 / tau   \n",
       "R_c                                                  SpaceArbitraryUnit   \n",
       "epsilon                                         SpaceArbitraryUnit ** 2   \n",
       "dt                                                    TimeArbitraryUnit   \n",
       "T_p                                                    AFsArbitraryUnit   \n",
       "alpha_p                        1 / AFsArbitraryUnit / TimeArbitraryUnit   \n",
       "T_c                                                    AFsArbitraryUnit   \n",
       "G_m                               AFsArbitraryUnit / SpaceArbitraryUnit   \n",
       "phi_th                                                             None   \n",
       "G_M                               AFsArbitraryUnit / SpaceArbitraryUnit   \n",
       "phi_min                                                            None   \n",
       "phi_max                                                            None   \n",
       "M                           SpaceArbitraryUnit ** 2 / TimeArbitraryUnit   \n",
       "chi                   SpaceArbitraryUnit ** 2 / AFsArbitraryUnit / T...   \n",
       "min_tipcell_distance                                 SpaceArbitraryUnit   \n",
       "tdf_i                                                              None   \n",
       "tgr                                             volume fraction per tau   \n",
       "\n",
       "                                                             references  \n",
       "name                                                                     \n",
       "SpaceArbitraryUnit                                                 None  \n",
       "TimeArbitraryUnit                                                  None  \n",
       "AFsArbitraryUnit                                                   None  \n",
       "D_af                  Estimated from Kihara, T., Ito, J., & Miyake, ...  \n",
       "V_d_af                Vempati, P., Popel, A. S., & Gabhann, F. Mac. ...  \n",
       "V_pT_af               Estimated from Finley, S. D., Dhar, M., & Pope...  \n",
       "V_uc_af                                      Estimated from degradation  \n",
       "R_c                   Milo et al. Nucl. Acids Res. (2010) 38 (suppl ...  \n",
       "epsilon               Same provied by Travasso, R. D. M., Poire, E. ...  \n",
       "dt                    Same provied by Travasso, R. D. M., Poire, E. ...  \n",
       "T_p                                                                None  \n",
       "alpha_p                                                            None  \n",
       "T_c                   Song, M. & Finley, S.D.Mechanistic characteriz...  \n",
       "G_m                   Shamloo, A., Ma, N., Poo, M. M., Sohn, L. L., ...  \n",
       "phi_th                                                             None  \n",
       "G_M                                                                None  \n",
       "phi_min                                                            None  \n",
       "phi_max                                                            None  \n",
       "M                                                                  None  \n",
       "chi                                                                None  \n",
       "min_tipcell_distance                                               None  \n",
       "tdf_i                                                              None  \n",
       "tgr                                 Estimated using Ye D. et al. (2012)  "
      ]
     },
     "metadata": {},
     "output_type": "display_data"
    }
   ],
   "source": [
    "from IPython.display import display\n",
    "\n",
    "g_parameters_df.set_index(\"name\", inplace=True)  # needed for simulation\n",
    "\n",
    "display(g_parameters_df)"
   ]
  },
  {
   "cell_type": "markdown",
   "metadata": {
    "collapsed": false
   },
   "source": [
    "So we can convert it to csv:"
   ]
  },
  {
   "cell_type": "code",
   "execution_count": 47,
   "metadata": {
    "ExecuteTime": {
     "end_time": "2023-11-15T09:03:22.502190363Z",
     "start_time": "2023-11-15T09:03:21.167055432Z"
    },
    "collapsed": false
   },
   "outputs": [],
   "source": [
    "g_parameters_df.to_csv(\"out/g_parameters.csv\")"
   ]
  },
  {
   "cell_type": "markdown",
   "metadata": {
    "collapsed": false
   },
   "source": [
    "# References\n",
    "Na, X., Wu, G., Ryan, C. K., Schoen, S. R., Di’Santagnese, P. A., & Messing, E. M. (2003). Overproduction of vascular endothelial growth factor related to von Hippel-Lindau tumor suppressor gene mutations and hypoxia-inducible factor-1α expression in renal cell carcinomas. Journal of Urology, 170(2 I), 588-592. https://doi.org/10.1097/01.ju.0000074870.54671.98\n",
    "\n",
    "Kihara, T., Ito, J., & Miyake, J. (2013). Measurement of Biomolecular Diffusion in Extracellular Matrix Condensed by Fibroblasts Using Fluorescence Correlation Spectroscopy. PLoS ONE, 8(11), 82382. https://doi.org/10.1371/JOURNAL.PONE.0082382\n",
    "\n",
    "Bateman, A., Martin, M. J., Orchard, S., Magrane, M., Agivetova, R., Ahmad, S., Alpi, E., Bowler-Barnett, E. H., Britto, R., Bursteinas, B., Bye-A-Jee, H., Coetzee, R., Cukura, A., da Silva, A., Denny, P., Dogan, T., Ebenezer, T. G., Fan, J., Castro, L. G., … Teodoro, D. (2021). UniProt: the universal protein knowledgebase in 2021. Nucleic Acids Research, 49(D1), D480-D489. https://doi.org/10.1093/NAR/GKAA1100\n",
    "\n",
    "Vempati, P., Popel, A. S. & Mac Gabhann, F. Extracellular regulation of VEGF: Isoforms, proteolysis, and vascular patterning. Cytokine Growth Factor Rev. 25, 1–19 (2014).\n",
    "\n",
    "Finley, S. D., Dhar, M., & Popel, A. S. (2013). Compartment model predicts VEGF secretion and investigates the effects of VEGF Trap in tumor-bearing mice. Frontiers in Oncology, 3 JUL, 196. https://doi.org/10.3389/fonc.2013.00196\n",
    "\n",
    "Milo et al. Nucl. Acids Res. (2010) 38 (suppl 1): D750-D753.\n",
    "\n",
    "Travasso, R. D. M., Poiré, E. C., Castro, M., Rodrguez-Manzaneque, J. C. & Hernández-Machado, A. Tumor angiogenesis and vascular patterning: A mathematical model. PLoS One 6, e19989 (2011).\n",
    "\n",
    "Tracqui, P., Liu, J. W., Collin, O., Clement-Lacroix, J., & Planus, E. (2005). Global analysis of endothelial cell line proliferation patterns based on nutrient-depletion models: implications for a standardization of cell proliferation assays. Cell Proliferation, 38(3), 119-135. https://doi.org/10.1111/J.1365-2184.2005.00337.X\n",
    "\n",
    "Song, M. & Finley, S.D.Mechanistic characterization of endothelial sprouting mediated by pro-angiogenic signaling. Microcirculation 29, e12744(2022).\n",
    "Shamloo, A., Ma, N., Poo, M. M., Sohn, L. L., & Heilshorn, S. C. (2008). Endothelial cell polarization and chemotaxis in a microfluidic device. Lab on a Chip, 8(8), 1292-1299. https://doi.org/10.1039/B719788H\n",
    "\n",
    "Stokes, C. L., Lauffenburger, D. A., & Williams, S. K. (1991). Migration of individual microvessel endothelial cells: stochastic model and parameter measurement.\n",
    "\n",
    "Shamloo, A., Ma, N., Poo, M. M., Sohn, L. L., & Heilshorn, S. C. (2008). Endothelial cell polarization and chemotaxis in a microfluidic device. Lab on a Chip, 8(8), 1292-1299. https://doi.org/10.1039/B719788H\n",
    "\n",
    "Blinder, Y. J., Freiman, A., Raindel, N., Mooney, D. J., & Levenberg, S. (2015). Vasculogenic dynamics in 3D engineered tissue constructs. Scientific Reports, 5(1), 1-8. https://doi.org/10.1038/srep17840\n",
    "\n",
    "---\n",
    "Lai, X., & Friedman, A. (2019). Mathematical modeling in scheduling cancer treatment with combination of VEGF inhibitor and chemotherapy drugs. Journal of Theoretical Biology, 462, 490-498. https://doi.org/10.1016/J.JTBI.2018.11.018\n",
    "\n",
    "Liao, K.L. , Bai, X.F. , Friedman, A. , 2014. Mathematical modeling of interleukin-27 induction of anti-tumor t cells response. PLoS One 9 (3), e91844.\n",
    "\n",
    "Guerra, A., Belinha, J., Mangir, N., MacNeil, S., & Natal Jorge, R. (2021). Sprouting Angiogenesis: A Numerical Approach with Experimental Validation. Annals of Biomedical Engineering, 49(2), 871-884. https://doi.org/10.1007/S10439-020-02622-W/TABLES/1\n",
    "\n",
    "Phillips, C. M., Lima, E. A. B. F., Woodall, R. T., Brock, A., & Yankeelov, T. E. (2020). A hybrid model of tumor growth and angiogenesis: In silico experiments. PLOS ONE, 15(4), e0231137. https://doi.org/10.1371/JOURNAL.PONE.0231137\n",
    "\n",
    "Levine, H. A., Pamuk, S., Bölümü, M., Sleeman, B. D., Nilsen-Hamilton, M., Cotran, R. A. S., Leapman, S. B., Folkman, J., & Levine, H. A. (2001). Mathematical modeling of capillary formation and development in tumor angiogenesis: Penetration into the stroma. Bulletin of Mathematical Biology 2001 63:5, 63(5), 801-863. https://doi.org/10.1006/BULM.2001.0240\n",
    "\n",
    "\n",
    "Kut, C., Mac Gabhann, F., & Popel, A. S. (2007). Where is VEGF in the body? A meta-analysis of VEGF distribution in cancer. British Journal of Cancer 2007 97:7, 97(7), 978-985. https://doi.org/10.1038/sj.bjc.6603923\n",
    "\n",
    "\n",
    "\n",
    "\n",
    "\n",
    "Los, M., Aarsman, C. J. M., Terpstra, L., Wittebol-Post, D., Lips, C. J. M., Blijham, G. H., & Voest, E. E. (1997). Elevated ocular levels of vascular endothelial growth factor in patients with von Hippel-Lindau disease. Annals of Oncology, 8(10), 1015-1022. https://doi.org/10.1023/A:1008213320642\n",
    "\n",
    "Karayiannakis, A. J., Zbar, A., Polychronidis, A., & Simopoulos, C. (2003). Serum and Drainage Fluid Vascular Endothelial Growth Factor Levels in Early Surgical Wounds. European Surgical Research, 35(6), 492-496. https://doi.org/10.1159/000073388\n",
    "\n",
    "\n",
    "\n",
    "\n",
    "\n",
    "\n",
    "\n",
    "\n",
    "\n",
    "\n",
    "Arora, S., Chung, H., & Damji, K. (2015). Ophthalmology and Clinical Research Optic Disk Size Assessment Techniques: Photo Essay. Int J Ophthalmol Clin Res, 2, 1.\n",
    "\n",
    "Ye, D. Y., Bakhtian, K. D., Asthagiri, A. R., & Lonser, R. R. (2012). Effect of pregnancy on hemangioblastoma development and progression in von Hippel-Lindau disease: Clinical article. Journal of Neurosurgery, 117(5), 818-824. https://doi.org/10.3171/2012.7.JNS12367\n",
    "\n",
    "\n"
   ]
  }
 ],
 "metadata": {
  "kernelspec": {
   "display_name": "Python 3 (ipykernel)",
   "language": "python",
   "name": "python3"
  },
  "language_info": {
   "codemirror_mode": {
    "name": "ipython",
    "version": 3
   },
   "file_extension": ".py",
   "mimetype": "text/x-python",
   "name": "python",
   "nbconvert_exporter": "python",
   "pygments_lexer": "ipython3",
   "version": "3.10.12"
  }
 },
 "nbformat": 4,
 "nbformat_minor": 4
}
