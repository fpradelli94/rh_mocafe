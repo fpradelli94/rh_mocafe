{
 "cells": [
  {
   "cell_type": "markdown",
   "source": [
    "# Simulation parameters\n",
    "We create a parameter dataframe containing the simulations' parameters, and a convenience function to fill it."
   ],
   "metadata": {
    "collapsed": false
   }
  },
  {
   "cell_type": "code",
   "execution_count": 1,
   "outputs": [],
   "source": [
    "import math\n",
    "import pandas as pd\n",
    "\n",
    "# create empty dataframe\n",
    "columns = [\"name\",  # name of the parameter\n",
    "           \"info\",  # additional info, if required\n",
    "           \"real_value\",  # real value (i.e. not using arbitrary units)\n",
    "           \"real_range_max\",  # max theoretical value (if meaningful)\n",
    "           \"real_range_min\",  # min theoretical value (if meaningful)\n",
    "           \"real_um\",  # unit of measure\n",
    "           \"sim_value\",  # value in arbitrary units\n",
    "           \"sim_range_max\",  # max value in arbitrary units\n",
    "           \"sim_range_min\",  # min value in arbitrary units\n",
    "           \"sim_um\",  # arbitrary units of measure\n",
    "           \"references\",  # scientific reference for the parameter (if needed)\n",
    "           \"influence\"]  # list of other parameters affected by the current parameter (not used)\n",
    "g_parameters_df = pd.DataFrame(columns=columns)\n",
    "\n",
    "\n",
    "# define convenience function to fill parameters dict\n",
    "def fill_parameters(params: pd.DataFrame,\n",
    "                    name=None,\n",
    "                    info=None,\n",
    "                    real_value=None,\n",
    "                    real_range_max=None,\n",
    "                    real_range_min=None,\n",
    "                    real_um=None,\n",
    "                    sim_value=None,\n",
    "                    sim_range_max=None,\n",
    "                    sim_range_min=None,\n",
    "                    sim_um=None,\n",
    "                    references=None,\n",
    "                    influence=None):\n",
    "    # get input arguments\n",
    "    args = locals()\n",
    "\n",
    "    # define dictionary of the new row\n",
    "    new_parameter_dict = {}\n",
    "    for column in columns:\n",
    "        new_parameter_dict[column] = args[column]\n",
    "\n",
    "    # add it to\n",
    "    return params.append(new_parameter_dict, ignore_index=True)"
   ],
   "metadata": {
    "collapsed": false
   }
  },
  {
   "cell_type": "markdown",
   "source": [
    "Then we initialize the arbitrary units:"
   ],
   "metadata": {
    "collapsed": false
   }
  },
  {
   "cell_type": "code",
   "execution_count": 2,
   "outputs": [],
   "source": [
    "from pint import UnitRegistry\n",
    "\n",
    "# define unit registry\n",
    "ureg = UnitRegistry()\n",
    "ureg.default_format = \"~P\"\n",
    "\n",
    "# define arbitrary units for space and time\n",
    "ureg.define(\"space arbitrary unit = 800 * um = sau\")\n",
    "ureg.define(\"time arbitrary unit = 26 * min = tau\")\n",
    "\n",
    "# define arbitrary units\n",
    "sim_s_au = 800 * ureg.um\n",
    "sim_t_au = 26 * ureg.min\n",
    "sim_af_au = 6000 * ureg(\"pg / mL\")  # about the same of the max VEGF value reported by Na et al. (2003)\n",
    "ureg.define(f\"af arbitrary concentration unit = {sim_af_au} = afau\")\n",
    "\n",
    "# add arbitrary units to dataframe\n",
    "g_parameters_df = fill_parameters(g_parameters_df,\n",
    "                                  name=\"Space Arbitrary Unit\",\n",
    "                                  real_value=sim_s_au.magnitude,\n",
    "                                  real_um=sim_s_au.units,\n",
    "                                  sim_value=sim_s_au.to(\"sau\").magnitude,\n",
    "                                  sim_um=sim_s_au.to(\"sau\").units)\n",
    "g_parameters_df = fill_parameters(g_parameters_df,\n",
    "                                  name=\"Time Arbitrary Unit\",\n",
    "                                  real_value=sim_t_au.magnitude,\n",
    "                                  real_um=sim_t_au.units,\n",
    "                                  sim_value=sim_t_au.to(\"tau\").magnitude,\n",
    "                                  sim_um=sim_t_au.to(\"tau\").units)\n",
    "g_parameters_df = fill_parameters(g_parameters_df,\n",
    "                                  name=\"AFs Arbitrary Unit\",\n",
    "                                  real_value=sim_af_au.magnitude,\n",
    "                                  real_um=sim_af_au.units,\n",
    "                                  sim_value=1,\n",
    "                                  sim_um=\"afau\")"
   ],
   "metadata": {
    "collapsed": false
   }
  },
  {
   "cell_type": "markdown",
   "source": [
    "In the following, we briefly discuss the derivation for each parameter.\n",
    "\n",
    "> Note: some parameters' name might change from the manuscript to this Notebook"
   ],
   "metadata": {
    "collapsed": false
   }
  },
  {
   "cell_type": "markdown",
   "source": [
    "## Angiogenic factor (af) parameters\n",
    "\n",
    "In our model we assume that the following partial differential equation (PDE) regulates the angiogenic factors (AFs) distribution ($af$):\n",
    "\n",
    "$$\n",
    "\\begin{align}\n",
    "\\frac{\\partial af}{\\partial t} = D_{af}\\nabla^2 af + V_{pT_{af}}\\varphi (1 - shf(c)) - V_{uC_{af}}\\cdot shf(c)af - V_{d_{af}} af\n",
    "\\end{align}\n",
    "$$\n",
    "\n",
    "Where:\n",
    "- $shf$ is a smooth Heavyside function\n",
    "- $D_{af}$ is the AFs diffusivity\n",
    "- $V_{pT_{af}}$ is the AFs production rate\n",
    "- $V_{uC_{af}}$ is the AFs uptake rate by the capillaries\n",
    "- $V_{d_{af}}$ is the degradation rate.\n",
    "- $\\varphi$ is the tumor phase field\n",
    "\n",
    "So we presume that $af$ is diffusing in the domain, while it is produced in the whole tumor body. Moreover, it decays in space and in capillaries.\n",
    "\n",
    "In many cases, we considered the vascular endothelial growth factor (VEGF) as the main reference to estimate AFs parameters."
   ],
   "metadata": {
    "collapsed": false
   }
  },
  {
   "cell_type": "markdown",
   "source": [
    "### Angiogenic factor diffusivity ($D_{af}$)\n",
    "We could not find a specific experimental value for VEGF diffusivity, but its value has been estimated in several papers:"
   ],
   "metadata": {
    "collapsed": false
   }
  },
  {
   "cell_type": "code",
   "execution_count": 3,
   "outputs": [
    {
     "name": "stdout",
     "output_type": "stream",
     "text": [
      "Lai & Friedman (2019)  : 1.00e-04 millimeter ** 2 / second\n",
      "Guerra et al. (2021)   : 1.16×10⁻⁶ mm²/s\n",
      "Phillips et al. (2020) : 2.22×10⁻⁶ mm²/s\n"
     ]
    }
   ],
   "source": [
    "## Lai & Friedman (2019)\n",
    "D_af_LaiFriedman = 8.64e-2 * ureg(\"cm^2 / day\")  # value provided in paper\n",
    "D_af_LaiFriedman = D_af_LaiFriedman.to(\"mm^2 / s\")  # converted for comparison  [no experimental evidence]\n",
    "print(f\"Lai & Friedman (2019)  : {D_af_LaiFriedman:.2e}\")\n",
    "\n",
    "## Guerra et al. (2021)\n",
    "D_af_Guerra = 1.16e-6 * ureg(\"mm^2 / s\")  # value provided in paper   [no experimental evidence]\n",
    "print(f\"Guerra et al. (2021)   : {D_af_Guerra}\")\n",
    "\n",
    "## Phillips et al. (2020)\n",
    "D_af_Phillips = 2.22e-6 * ureg(\"mm^2 / s\")\n",
    "print(f\"Phillips et al. (2020) : {D_af_Phillips}\")  # value provided in paper   [no experimental evidence]"
   ],
   "metadata": {
    "collapsed": false
   }
  },
  {
   "cell_type": "markdown",
   "source": [
    "One of the oldest estimates is reported in Levine et al. (2001):"
   ],
   "metadata": {
    "collapsed": false
   }
  },
  {
   "cell_type": "code",
   "execution_count": 4,
   "outputs": [
    {
     "name": "stdout",
     "output_type": "stream",
     "text": [
      "Levine et al. (2020)   : 1×10⁻⁷ mm²/s\n"
     ]
    }
   ],
   "source": [
    "D_af_Levine = 1e-7 * ureg(\"mm^2 / s\")\n",
    "print(f\"Levine et al. (2020)   : {D_af_Levine}\")  # value provided in paper   [no experimental evidence]"
   ],
   "metadata": {
    "collapsed": false
   }
  },
  {
   "cell_type": "markdown",
   "source": [
    "This value was estimated using the [Stokes-Einstein equation of diffusivity](https://en.wikipedia.org/wiki/Einstein_relation_(kinetic_theory)) and exploiting the measures available on another protein (see Appendix B, section 3). This value (and thus, the same estimation) is the one used by Travasso et al. (2011). For all other values, we could not find a clear derivation path."
   ],
   "metadata": {
    "collapsed": false
   }
  },
  {
   "cell_type": "markdown",
   "source": [
    "Thus, we also made an estimate for D_{af}, based on experimental evidence.\n",
    "\n",
    "Kihara et al. (2013) measured the diffusivity of different peptides, with molecular weights ranging from 3 to 40 kDa. The diffusivity is measured in an actual extracellular matrix condensed by fibroblasts, making the experimental conditions closer to the retinal environment than a simple measure in water or serum.\n",
    "\n",
    "In Table 1 they report the diffusion coefficients for two peptides with a mass close to VEGF:\n",
    "- Alexa488 dextran (which is 10 kDa)\n",
    "- and for FITC dextran (40 kDa)"
   ],
   "metadata": {
    "collapsed": false
   }
  },
  {
   "cell_type": "code",
   "execution_count": 5,
   "outputs": [],
   "source": [
    "D_Alexa488_dextran_serum = 81.7 * ureg(\"(um^2) / s\")\n",
    "D_FITC_dextran_serum = 44.7e-6 * ureg(\"(um^2) / s\")"
   ],
   "metadata": {
    "collapsed": false
   }
  },
  {
   "cell_type": "markdown",
   "source": [
    "In Figure 8 they show that the diffusivity reduction in the extracellular matrix (ECM) compared to serum is quite small (27%), even though statistically significant."
   ],
   "metadata": {
    "collapsed": false
   }
  },
  {
   "cell_type": "code",
   "execution_count": 6,
   "outputs": [],
   "source": [
    "D_Alexa488_dextran_matrix = 0.73 * D_Alexa488_dextran_serum\n",
    "D_FITC_dextran_matrix = 0.73 * D_FITC_dextran_serum"
   ],
   "metadata": {
    "collapsed": false
   }
  },
  {
   "cell_type": "markdown",
   "source": [
    "We emplyed these measure to estimate VEGF diffusivity in retina by linear interpolation between the two values reported above.\n",
    "\n",
    "According to the Uniprot entry for VEGFA (Uiprot ID: P15692) the VEGF isoforms have a molecular weight between 15,981 Da (Isoform VEGF111; identifier: P15692-10) and 45,467 Da (Isoform L-VEGF206; identifier: P15692-14). So we have:"
   ],
   "metadata": {
    "collapsed": false
   }
  },
  {
   "cell_type": "code",
   "execution_count": 7,
   "outputs": [
    {
     "name": "stdout",
     "output_type": "stream",
     "text": [
      "VEGF Diffusivity is in range: [1.9e-05 millimeter ** 2 / second, 6.5e-05 millimeter ** 2 / second] millimiters^2 / seconds\n"
     ]
    }
   ],
   "source": [
    "# estimate as a line D = m * mol_w + q\n",
    "m = (D_FITC_dextran_serum - D_Alexa488_dextran_serum) / (40e3 - 10e3)\n",
    "q = D_Alexa488_dextran_serum - (10e3 * m)\n",
    "\n",
    "# max diffusivity: smaller isoform in serum:\n",
    "min_mol_w = 16e3  # Da\n",
    "D_VEGF_max = (m * min_mol_w) + q\n",
    "D_VEGF_max = D_VEGF_max.to(\"(mm^2) / s\")  # convert to compare with others\n",
    "\n",
    "# min diffusivity: bigger isoform in serum\n",
    "max_mol_w = 45e3  # Da\n",
    "D_VEGF_min = 0.73 * (m * max_mol_w) + q\n",
    "D_VEGF_min = D_VEGF_min.to(\"(mm^2) / s\")  # convert to compare with others\n",
    "\n",
    "print(f\"VEGF Diffusivity is in range: [{D_VEGF_min:.2g}, {D_VEGF_max:.2g}] millimiters^2 / seconds\")"
   ],
   "metadata": {
    "collapsed": false
   }
  },
  {
   "cell_type": "markdown",
   "source": [
    "The range we found agrees with the values provided by the other authors."
   ],
   "metadata": {
    "collapsed": false
   }
  },
  {
   "cell_type": "code",
   "execution_count": 8,
   "outputs": [
    {
     "name": "stdout",
     "output_type": "stream",
     "text": [
      "## D_af \n",
      "value:  4.2415938159916675×10⁻⁵ mm²/s \n",
      "range:  [1×10⁻⁷ mm²/s, 0.00010000000000000002 mm²/s]\n"
     ]
    }
   ],
   "source": [
    "D_af = (D_VEGF_min + D_VEGF_max) / 2\n",
    "print(\"## D_af \\n\"\n",
    "      f\"value:  {D_af} \\n\"\n",
    "      f\"range:  [{D_af_Levine}, {D_af_LaiFriedman}]\")\n",
    "\n",
    "# add it to dictionary\n",
    "g_parameters_df = fill_parameters(g_parameters_df,\n",
    "                                  name=\"D_af\",\n",
    "                                  info=\"Diffusivity of angiogenic factor\",\n",
    "                                  real_value=D_af.magnitude,\n",
    "                                  real_range_max=D_af_LaiFriedman.magnitude,\n",
    "                                  real_range_min=D_af_Levine.magnitude,\n",
    "                                  real_um=D_af.units,\n",
    "                                  references=\"Estimated from Kihara, T., Ito, J., & Miyake, J. (2013). Measurement of Biomolecular Diffusion in Extracellular Matrix Condensed by Fibroblasts Using Fluorescence Correlation Spectroscopy. PLoS ONE, 8(11), 82382. https://doi.org/10.1371/JOURNAL.PONE.0082382\",\n",
    "                                  sim_value=D_af.to(\"sau^2 / tau\").magnitude,\n",
    "                                  sim_range_max=D_af_LaiFriedman.to(\"sau^2 / tau\").magnitude,\n",
    "                                  sim_range_min=D_af_Levine.to(\"sau^2 / tau\").magnitude,\n",
    "                                  sim_um=D_af.to(\"sau^2 / tau\").units)"
   ],
   "metadata": {
    "collapsed": false
   }
  },
  {
   "cell_type": "markdown",
   "source": [
    "### Angiogenic factor degradation rate ($V_{d_{af}}$)\n",
    "\n",
    "According to Vempati et al. (2014), the degradation rate of VEGF in cellular conditions is:"
   ],
   "metadata": {
    "collapsed": false
   }
  },
  {
   "cell_type": "code",
   "execution_count": 9,
   "outputs": [
    {
     "name": "stdout",
     "output_type": "stream",
     "text": [
      "## V_d_af \n",
      "value:  0.918 1/hr \n",
      "range:  [0.8280000000000001 1/hr, 1.008 1/hr]\n"
     ]
    }
   ],
   "source": [
    "## Values reported by Vempati et al. (2014)\n",
    "V_d_af_max = 2.8e-4 * ureg(\"1 / s\")\n",
    "V_d_af_max = V_d_af_max.to(\"1 / hr\")\n",
    "V_d_af_min = 2.3e-4 * ureg(\"1 / s\")\n",
    "V_d_af_min = V_d_af_min.to(\"1 / hr\")\n",
    "\n",
    "# Take the average\n",
    "V_d_af = (V_d_af_max + V_d_af_min) / 2\n",
    "\n",
    "print(f\"## V_d_af \\n\"\n",
    "      f\"value:  {V_d_af} \\n\"\n",
    "      f\"range:  [{V_d_af_min}, {V_d_af_max}]\")"
   ],
   "metadata": {
    "collapsed": false
   }
  },
  {
   "cell_type": "code",
   "execution_count": 10,
   "outputs": [],
   "source": [
    "# add V_d_af to parameters\n",
    "g_parameters_df = fill_parameters(g_parameters_df,\n",
    "                                  name=\"V_d_af\",\n",
    "                                  info=\"Angiogenic factor degradation rate\",\n",
    "                                  real_value=V_d_af.magnitude,\n",
    "                                  real_range_max=V_d_af_max.magnitude,\n",
    "                                  real_range_min=V_d_af_min.magnitude,\n",
    "                                  real_um=V_d_af.units,\n",
    "                                  references=\"Vempati, P., Popel, A. S., & Gabhann, F. Mac. (2014). Extracellular regulation of VEGF: isoforms, proteolysis, and vascular patterning. Cytokine Growth Factor Rev, 25(1), 1–19. https://doi.org/10.1016/j.cytogfr.2013.11.002\",\n",
    "                                  sim_value=V_d_af.to(\"1 / tau\").magnitude,\n",
    "                                  sim_range_max=V_d_af_max.to(\"1 / tau\").magnitude,\n",
    "                                  sim_range_min=V_d_af_min.to(\"1 / tau\").magnitude,\n",
    "                                  sim_um=V_d_af.to(\"1 / tau\").units)"
   ],
   "metadata": {
    "collapsed": false
   }
  },
  {
   "cell_type": "markdown",
   "source": [
    "### Angiogenic factor production rate ($V_{pT_{af}}$)\n",
    "Finley et al. (2013) have provided experimental measures and estimation of VEGF secretion rates:"
   ],
   "metadata": {
    "collapsed": false
   }
  },
  {
   "cell_type": "code",
   "execution_count": 11,
   "outputs": [],
   "source": [
    "p_VEGF_in_vitro_max = 2.65  # molecules / (cell * s)\n",
    "p_VEGF_in_vitro_min = 0.03  # molecules / (cell * s)\n",
    "p_VEGF_tumor_max = 0.023  # molecules / (cell * s)\n",
    "p_VEGF_tumor_min = 0.007  # molecules / (cell * s)"
   ],
   "metadata": {
    "collapsed": false
   }
  },
  {
   "cell_type": "markdown",
   "source": [
    "To convert these values in the units required by our model $[\\frac{afau}{tau}]$, we need to convert it making assumptions on:\n",
    "- The weight of 1 molecule of VEGF ($W_{VEGF}$; unit of measure: grams)\n",
    "- The cellular density in the tumor volume ($CD_{T}$; unit of measure: cells / mm^3)"
   ],
   "metadata": {
    "collapsed": false
   }
  },
  {
   "cell_type": "markdown",
   "source": [
    "#### $W_{VEGF}$\n",
    "The weight of one molecule of VEGF can be computed easily from the molar mass:"
   ],
   "metadata": {
    "collapsed": false
   }
  },
  {
   "cell_type": "code",
   "execution_count": 12,
   "outputs": [
    {
     "name": "stdout",
     "output_type": "stream",
     "text": [
      "W_VEGF: [2.6569246097641978×10⁻²⁰ g, 7.472600464961807×10⁻²⁰ g]\n"
     ]
    }
   ],
   "source": [
    "# Avogadro's constant\n",
    "c_Avogadro = 6.022e23\n",
    "\n",
    "# Estimate W_VEGF\n",
    "W_VEGF_min = (min_mol_w / c_Avogadro) * ureg(\"g\")\n",
    "W_VEGF_max = (max_mol_w / c_Avogadro) * ureg(\"g\")\n",
    "print(f\"W_VEGF: [{W_VEGF_min}, {W_VEGF_max}]\")"
   ],
   "metadata": {
    "collapsed": false
   }
  },
  {
   "cell_type": "markdown",
   "source": [
    "#### $CD_T$\n",
    "Assuming a cell radius in the order of:"
   ],
   "metadata": {
    "collapsed": false
   }
  },
  {
   "cell_type": "code",
   "execution_count": 13,
   "outputs": [],
   "source": [
    "R_c = 10 * ureg(\"um\")"
   ],
   "metadata": {
    "collapsed": false
   }
  },
  {
   "cell_type": "markdown",
   "source": [
    "We can assume that where $\\phi = 1$ all the tumor space is filled by cells, and we would have:"
   ],
   "metadata": {
    "collapsed": false
   }
  },
  {
   "cell_type": "code",
   "execution_count": 14,
   "outputs": [],
   "source": [
    "CD_T_max = 1 / ((4 / 3) * math.pi * (R_c ** 3))\n",
    "CD_T_max = CD_T_max.to(\"1 / mL\")"
   ],
   "metadata": {
    "collapsed": false
   }
  },
  {
   "cell_type": "markdown",
   "source": [
    "To be more conservative, we can assume that some of the tumor space contains ECM, and thus reduce this value of some percentage:"
   ],
   "metadata": {
    "collapsed": false
   }
  },
  {
   "cell_type": "code",
   "execution_count": 15,
   "outputs": [
    {
     "name": "stdout",
     "output_type": "stream",
     "text": [
      "CD_T: [179049310.97838232 1/ml, 238732414.6378431 1/ml]\n"
     ]
    }
   ],
   "source": [
    "CD_T_min = CD_T_max * 0.75  # based on rigid packing hypothesis\n",
    "print(f\"CD_T: [{CD_T_min}, {CD_T_max}]\")"
   ],
   "metadata": {
    "collapsed": false
   }
  },
  {
   "cell_type": "markdown",
   "source": [
    "#### Conversion\n",
    "Gathering all together, we have that $V_{pT_{af}}$ can be in the order to:"
   ],
   "metadata": {
    "collapsed": false
   }
  },
  {
   "cell_type": "code",
   "execution_count": 16,
   "outputs": [
    {
     "name": "stdout",
     "output_type": "stream",
     "text": [
      "## V_pT_af \n",
      "value: 47.27472674454134 pg/ml/s \n",
      "range: [0.03330043644898509 pg/ml/s, 47.27472674454134 pg/ml/s]\n"
     ]
    }
   ],
   "source": [
    "V_pT_af_max = (p_VEGF_in_vitro_max * ureg(\"1 / s\") * W_VEGF_max * CD_T_max)\n",
    "V_pT_af_max = V_pT_af_max.to_compact().to(\"pg / (mL * s)\")\n",
    "V_pT_af_min = (p_VEGF_tumor_min * ureg(\"1 / s\") * W_VEGF_min * CD_T_min)\n",
    "V_pT_af_min = V_pT_af_min.to_compact().to(\"pg /(mL * s)\")\n",
    "\n",
    "V_pT_af = V_pT_af_max\n",
    "\n",
    "print(f\"## V_pT_af \\n\"\n",
    "      f\"value: {V_pT_af} \\n\"\n",
    "      f\"range: [{V_pT_af_min}, {V_pT_af_max}]\")"
   ],
   "metadata": {
    "collapsed": false
   }
  },
  {
   "cell_type": "code",
   "execution_count": 17,
   "outputs": [],
   "source": [
    "# add it to parameters dict\n",
    "g_parameters_df = fill_parameters(g_parameters_df,\n",
    "                                  name=\"V_pT_af\",\n",
    "                                  info=\"Angiogenic factor production rate inside the tumor\",\n",
    "                                  real_value=V_pT_af.magnitude,\n",
    "                                  real_range_max=V_pT_af_max.magnitude,\n",
    "                                  real_range_min=V_pT_af_min.magnitude,\n",
    "                                  real_um=V_d_af.units,\n",
    "                                  sim_value=V_pT_af.to(\"afau / tau\").magnitude,\n",
    "                                  sim_range_min=V_pT_af_min.to(\"afau / tau\").magnitude,\n",
    "                                  sim_range_max=V_pT_af_max.to(\"afau / tau\").magnitude,\n",
    "                                  sim_um=\"afau / tau\",\n",
    "                                  references=\"Estimated from Finley, S. D., Dhar, M., & Popel, A. S. (2013). Compartment model predicts VEGF secretion and investigates the effects of VEGF Trap in tumor-bearing mice. Frontiers in Oncology, 3 JUL, 196. https://doi.org/10.3389/fonc.2013.00196\")"
   ],
   "metadata": {
    "collapsed": false
   }
  },
  {
   "cell_type": "markdown",
   "source": [
    "### Angiogenic factor uptake in capillaries ($V_{uC_{af}}$)\n",
    "\n",
    "In the original model, Travasso et al. (2011) estimated:"
   ],
   "metadata": {
    "collapsed": false
   }
  },
  {
   "cell_type": "code",
   "execution_count": 18,
   "outputs": [
    {
     "name": "stdout",
     "output_type": "stream",
     "text": [
      "## V_uC_af \n",
      "value: 14.4 1/hr \n",
      "\n"
     ]
    }
   ],
   "source": [
    "# estimate V_uc_af\n",
    "V_uC_af = 0.004 * ureg(\"1 / s\")\n",
    "V_uC_af = V_uC_af.to(\"1 / hr\")\n",
    "\n",
    "print(f\"## V_uC_af \\n\"\n",
    "      f\"value: {V_uC_af} \\n\")"
   ],
   "metadata": {
    "collapsed": false
   }
  },
  {
   "cell_type": "markdown",
   "source": [
    "However, this value is not based on experimental evidence. Thus, we consider a range based on the degradation rate and on a value leading to no tip cells' activation"
   ],
   "metadata": {
    "collapsed": false
   }
  },
  {
   "cell_type": "code",
   "execution_count": 19,
   "outputs": [],
   "source": [
    "V_uC_af_min = 2 * V_d_af_min\n",
    "V_uC_af = 10 * V_uC_af\n",
    "V_uC_af_max = 10 * V_uC_af\n",
    "# add it to parameters dict\n",
    "g_parameters_df = fill_parameters(g_parameters_df,\n",
    "                                  name=\"V_uc_af\",\n",
    "                                  info=\"Angiogenic factor uptake in capillaries\",\n",
    "                                  real_value=V_uC_af.magnitude,\n",
    "                                  real_range_min=V_uC_af_min,\n",
    "                                  real_range_max=V_uC_af_max,\n",
    "                                  real_um=V_uC_af.units,\n",
    "                                  references=\"Estimated by Travasso, R. D. M., Poiré, E. C., Castro, M., Rodrguez-Manzaneque, J. C., & Hernández-Machado, A. (2011). Tumor angiogenesis and vascular patterning: A mathematical model. PLoS ONE, 6(5), e19989. https://doi.org/10.1371/journal.pone.0019989\",\n",
    "                                  sim_value=V_uC_af.to(\"1 / tau\").magnitude,\n",
    "                                  sim_um=\"1 / tau\",\n",
    "                                  sim_range_min=V_uC_af_min.to(\"1 / tau\"),\n",
    "                                  sim_range_max=V_uC_af_max.to(\"1 / tau\"))"
   ],
   "metadata": {
    "collapsed": false
   }
  },
  {
   "cell_type": "markdown",
   "source": [
    "## Angiogenesis parameters\n",
    "\n",
    "### Cell radius ($R_c$)\n",
    "\n",
    "For the cell radius we assumed half of the maximum value provided by Bionumbers (Milo et al., 2010) at the ID 100432, which is:"
   ],
   "metadata": {
    "collapsed": false
   }
  },
  {
   "cell_type": "code",
   "execution_count": 20,
   "outputs": [
    {
     "name": "stdout",
     "output_type": "stream",
     "text": [
      "R_c: 10 µm\n"
     ]
    }
   ],
   "source": [
    "print(f\"R_c: {R_c}\")\n",
    "\n",
    "# add it to parameters dict\n",
    "g_parameters_df = fill_parameters(g_parameters_df,\n",
    "                                  name=\"R_c\",\n",
    "                                  info=\"Cell radius\",\n",
    "                                  real_value=R_c.magnitude,\n",
    "                                  real_um=R_c.units,\n",
    "                                  references=\"Milo et al. Nucl. Acids Res. (2010) 38 (suppl 1): D750-D753.; ID: 100432\",\n",
    "                                  sim_value=R_c.to(\"sau\").magnitude,\n",
    "                                  sim_um=R_c.to(\"sau\").units)"
   ],
   "metadata": {
    "collapsed": false
   }
  },
  {
   "cell_type": "markdown",
   "source": [
    "This value also agrees with the endothelial cells dimension which can be inferred from the pictures reported by Shamloo, A. et al. (2008) (see Fig. 5A and 5B)."
   ],
   "metadata": {
    "collapsed": false
   }
  },
  {
   "cell_type": "markdown",
   "source": [
    "### Interface width of the capillaries ($\\epsilon$)\n",
    "\n",
    "The capillaries phase field model depends on a parameters $\\epsilon$, regulating the interfacial width between the capillary and the surrounding tissue. We use the same value used by Travasso et al. (2011):"
   ],
   "metadata": {
    "collapsed": false
   }
  },
  {
   "cell_type": "code",
   "execution_count": 21,
   "outputs": [
    {
     "name": "stdout",
     "output_type": "stream",
     "text": [
      "epsilon: 1.6 micrometer ** 2\n",
      "         2.4e-06 space arbitrary unit ** 2\n"
     ]
    }
   ],
   "source": [
    "epsilon = (1.25 ** 2) * (ureg.um ** 2)  # notice: in Travasso provided as 'um' but it is probably an error\n",
    "\n",
    "epsilon_real = epsilon\n",
    "epsilon_sim = epsilon.to('sau ** 2')\n",
    "print(f\"epsilon: {epsilon_real:.2g}\\n\"\n",
    "      f\"         {epsilon_sim:.2g}\")"
   ],
   "metadata": {
    "collapsed": false
   }
  },
  {
   "cell_type": "code",
   "execution_count": 22,
   "outputs": [],
   "source": [
    "# add it to parameters\n",
    "g_parameters_df = fill_parameters(g_parameters_df,\n",
    "                                  name=\"epsilon\",\n",
    "                                  info=\"Interface width\",\n",
    "                                  real_value=epsilon_real.magnitude,\n",
    "                                  real_um=epsilon_real.units,\n",
    "                                  references=\"Same provied by Travasso, R. D. M., Poiré, E. C., Castro, M., Rodrguez-Manzaneque, J. C., & Hernández-Machado, A. (2011). Tumor angiogenesis and vascular patterning: A mathematical model. PLoS ONE, 6(5), e19989. https://doi.org/10.1371/journal.pone.0019989\",\n",
    "                                  sim_value=epsilon_sim.magnitude,\n",
    "                                  sim_um=epsilon_sim.units)"
   ],
   "metadata": {
    "collapsed": false
   }
  },
  {
   "cell_type": "markdown",
   "source": [
    "### Time step ($dt$)\n",
    "The simulation time step is a parameter of the angiogenesis model because it regulates the frequency of tip cell activation. Indeed, at each time step maximum one tip cell can activate. We assume $dt$ to be the same as the arbitrary time unit:"
   ],
   "metadata": {
    "collapsed": false
   }
  },
  {
   "cell_type": "code",
   "execution_count": 23,
   "outputs": [
    {
     "name": "stdout",
     "output_type": "stream",
     "text": [
      "dt: 26 min\n"
     ]
    }
   ],
   "source": [
    "dt = sim_t_au\n",
    "print(f\"dt: {dt}\")"
   ],
   "metadata": {
    "collapsed": false
   }
  },
  {
   "cell_type": "markdown",
   "source": [
    "This makes sure that the activation of new tip cells does not lead to discontinuous capillaries, because the maximum cell displacement (i.e. the maximum tip cells' velocity times $dt$) is lower than a TC radius (see section regarding $G_M$)"
   ],
   "metadata": {
    "collapsed": false
   }
  },
  {
   "cell_type": "code",
   "execution_count": 24,
   "outputs": [],
   "source": [
    "g_parameters_df = fill_parameters(g_parameters_df,\n",
    "                                  name=\"dt\",\n",
    "                                  info=\"Simulation time step\",\n",
    "                                  real_value=dt.magnitude,\n",
    "                                  real_um=dt.units,\n",
    "                                  references=\"Same provied by Travasso, R. D. M., Poiré, E. C., Castro, M., Rodrguez-Manzaneque, J. C., & Hernández-Machado, A. (2011). Tumor angiogenesis and vascular patterning: A mathematical model. PLoS ONE, 6(5), e19989. https://doi.org/10.1371/journal.pone.0019989\",\n",
    "                                  sim_value=dt.to(\"tau\").magnitude,\n",
    "                                  sim_um=dt.to(\"tau\").units)"
   ],
   "metadata": {
    "collapsed": false
   }
  },
  {
   "cell_type": "markdown",
   "source": [
    "### Angiogenic factor value for maximum proliferation ($T_p$)\n",
    "\n",
    "Based on the measures realized by Tracqui P. et al. (2005), Travasso et al. (2011) estimated a linear increase of the proliferation of endothelial cells only up to a certain angiogenic factor level, $T_p$. This $T_p$ value is set to:"
   ],
   "metadata": {
    "collapsed": false
   }
  },
  {
   "cell_type": "code",
   "execution_count": 25,
   "outputs": [],
   "source": [
    "T_p = 0.3 * ureg.afau"
   ],
   "metadata": {
    "collapsed": false
   }
  },
  {
   "cell_type": "markdown",
   "source": [
    "This value allowed them to obtain results comparable with angiogenic experiments. Thus, we kept the same."
   ],
   "metadata": {
    "collapsed": false
   }
  },
  {
   "cell_type": "code",
   "execution_count": 26,
   "outputs": [],
   "source": [
    "T_p_real = T_p.to(\"pg / mL\")\n",
    "T_p_sim = T_p\n",
    "\n",
    "g_parameters_df = fill_parameters(g_parameters_df,\n",
    "                                  name=\"T_p\",\n",
    "                                  info=\"Angiogenic factor concentration for maximum proliferation\",\n",
    "                                  real_value=T_p_real.magnitude,\n",
    "                                  real_um=T_p_real.units,\n",
    "                                  references=\"None\",\n",
    "                                  sim_value=T_p_sim.magnitude,\n",
    "                                  sim_um=T_p_sim.units)"
   ],
   "metadata": {
    "collapsed": false
   }
  },
  {
   "cell_type": "markdown",
   "source": [
    "### Endothelial cells proliferation rate ($\\alpha_p$)\n",
    "\n",
    "Based on the measures by Tracqui, P. (2005), Travasso et al. (2011) estimated a normal value for the maximum proliferation rate of endothelial cells to be:\n"
   ],
   "metadata": {
    "collapsed": false
   }
  },
  {
   "cell_type": "code",
   "execution_count": 27,
   "outputs": [],
   "source": [
    "endothelial_cells_proliferation_rate = 0.97 * (1 / ureg.hr)"
   ],
   "metadata": {
    "collapsed": false
   }
  },
  {
   "cell_type": "markdown",
   "source": [
    "Pairing this value to the *in silico* maximum proliferation rate, which is $\\alpha_p T_p$, we get:"
   ],
   "metadata": {
    "collapsed": false
   }
  },
  {
   "cell_type": "code",
   "execution_count": 28,
   "outputs": [
    {
     "name": "stdout",
     "output_type": "stream",
     "text": [
      "alpha_p: 1.4 / af arbitrary concentration unit / time arbitrary unit\n"
     ]
    }
   ],
   "source": [
    "alpha_p = endothelial_cells_proliferation_rate.to(\"1 / tau\") / T_p\n",
    "alpha_p = alpha_p.to_compact()\n",
    "print(f\"alpha_p: {alpha_p:.2g}\")"
   ],
   "metadata": {
    "collapsed": false
   }
  },
  {
   "cell_type": "markdown",
   "source": [
    "Which is in agreement with the value used by Vilanova et al. (2016)."
   ],
   "metadata": {
    "collapsed": false
   }
  },
  {
   "cell_type": "code",
   "execution_count": 29,
   "outputs": [],
   "source": [
    "alpha_p_real = alpha_p.to(\"(mL / pg) * (1 / hr)\")\n",
    "alpha_p_sim = alpha_p"
   ],
   "metadata": {
    "collapsed": false
   }
  },
  {
   "cell_type": "code",
   "execution_count": 30,
   "outputs": [],
   "source": [
    "g_parameters_df = fill_parameters(g_parameters_df,\n",
    "                                  name=\"alpha_p\",\n",
    "                                  info=\"Endothelial cells proliferation rate\",\n",
    "                                  real_value=alpha_p_real.magnitude,\n",
    "                                  real_um=alpha_p_real.units,\n",
    "                                  sim_value=alpha_p_sim.magnitude,\n",
    "                                  sim_um=alpha_p_sim.units)"
   ],
   "metadata": {
    "collapsed": false
   }
  },
  {
   "cell_type": "markdown",
   "source": [
    "### Minimum angiogenic factor concentration for tip cells activation ($T_c$)\n",
    "\n",
    "Despite difficult to measure, a threshold in AF concentration for tip cell activation is likely to exist, since they need to bind to cellular surface receptors to influence cells behaviour. Considering VEGF, it has been measured that VEGF receptors (VEGFR) have a density of (Imoukhuede, P. I. et al. (2011)):"
   ],
   "metadata": {
    "collapsed": false
   }
  },
  {
   "cell_type": "code",
   "execution_count": 31,
   "outputs": [],
   "source": [
    "d_VEGFR_cell_min = 1000  # VEGFR molecules / cell\n",
    "d_VEGFR_cell_max = 10000 # VEGFR molecules / cell"
   ],
   "metadata": {
    "collapsed": false
   }
  },
  {
   "cell_type": "markdown",
   "source": [
    "Considering the cell density we have assumed above, this leads to the following concentration:"
   ],
   "metadata": {
    "collapsed": false
   }
  },
  {
   "cell_type": "code",
   "execution_count": 32,
   "outputs": [
    {
     "name": "stdout",
     "output_type": "stream",
     "text": [
      "VEGFR concentration: [2.9732532543736684×10⁻¹³ 1/ml, 3.964337672498225×10⁻¹² 1/ml]  unit: moles / mL\n"
     ]
    }
   ],
   "source": [
    "c_VEGFR_cell_min = (d_VEGFR_cell_min * CD_T_min) / c_Avogadro\n",
    "c_VEGFR_cell_max = (d_VEGFR_cell_max * CD_T_max) / c_Avogadro\n",
    "print(f\"VEGFR concentration: [{c_VEGFR_cell_min}, {c_VEGFR_cell_max}]  unit: moles / mL\")"
   ],
   "metadata": {
    "collapsed": false
   }
  },
  {
   "cell_type": "markdown",
   "source": [
    "Assuming that the molar concentration of VEGF should be in the same order of magnitude, we can assume T_c to be in the order of:"
   ],
   "metadata": {
    "collapsed": false
   }
  },
  {
   "cell_type": "code",
   "execution_count": 33,
   "outputs": [
    {
     "name": "stdout",
     "output_type": "stream",
     "text": [
      "T_c: [0.26666666666666666 afau, 0.7499999999999999 afau]\n"
     ]
    }
   ],
   "source": [
    "T_c_min = 1e-13 * min_mol_w * ureg(\"g / mL\")\n",
    "T_c_min = T_c_min.to(\"afau\")\n",
    "T_c_max = 1e-13 * max_mol_w * ureg(\"g / mL\")\n",
    "T_c_max = T_c_max.to(\"afau\")\n",
    "print(f\"T_c: [{T_c_min}, {T_c_max}]\")\n",
    "T_c_sim = 0.5 * ureg(\"afau\")"
   ],
   "metadata": {
    "collapsed": false
   }
  },
  {
   "cell_type": "markdown",
   "source": [
    "However, nothing guarantee that the minimum concentration can also be lower. Thus, we assume:"
   ],
   "metadata": {
    "collapsed": false
   }
  },
  {
   "cell_type": "code",
   "execution_count": 34,
   "outputs": [
    {
     "name": "stdout",
     "output_type": "stream",
     "text": [
      "T_c: \n",
      "\t sim: 3000.0000000000005 pg/ml (real) 0.5 afau (sim) \n",
      "\t min: 300.00000000000006 pg/ml (real) 0.05 afau (sim) \n",
      "\n"
     ]
    }
   ],
   "source": [
    "T_c_sim_min = T_c_sim / 10\n",
    "T_c_real_min = T_c_sim_min.to(\"pg / mL\")  # eventually, not used in the paper\n",
    "T_c_real = T_c_sim.to(\"pg / mL\")\n",
    "\n",
    "print(f\"T_c: \\n\"\n",
    "      f\"\\t sim: {T_c_real} (real) {T_c_sim} (sim) \\n\"\n",
    "      f\"\\t min: {T_c_real_min} (real) {T_c_sim_min} (sim) \\n\")\n",
    "\n",
    "g_parameters_df = fill_parameters(g_parameters_df,\n",
    "                                  name=\"T_c\",\n",
    "                                  info=\"Minimum af for Tip Cells Activation\",\n",
    "                                  real_value=T_c_real.magnitude,\n",
    "                                  real_um=T_c_real.units,\n",
    "                                  real_range_min=T_c_real_min.magnitude,\n",
    "                                  sim_value=T_c_sim.magnitude,\n",
    "                                  sim_um=T_c_sim.units,\n",
    "                                  sim_range_min=T_c_sim_min.magnitude,\n",
    "                                  references=\"Imoukhuede, P. I., & Popel, A. S. (2011). Quantification and cell-to-cell variation of vascular endothelial growth factor receptors. Experimental Cell Research, 317(7), 955–965. https://doi.org/10.1016/J.YEXCR.2010.12.014\")"
   ],
   "metadata": {
    "collapsed": false
   }
  },
  {
   "cell_type": "markdown",
   "source": [
    "### Mimimum angiogenic factor gradient for Tip Cells activation ($G_m$)\n",
    "From Shamloo et al (2008) we have:"
   ],
   "metadata": {
    "collapsed": false
   }
  },
  {
   "cell_type": "code",
   "execution_count": 35,
   "outputs": [
    {
     "name": "stdout",
     "output_type": "stream",
     "text": [
      "## G_m\n",
      "real: 14.0 ng/ml/mm\n",
      "sim : 1.8666666666666667 afau/sau\n"
     ]
    }
   ],
   "source": [
    "G_m_real = 14 * ureg(\"ng / (mL * mm)\")\n",
    "# converting to arbitrary units:\n",
    "G_m_sim = G_m_real.to(\"afau / sau\")\n",
    "print(f\"## G_m\\n\"\n",
    "      f\"real: {G_m_real}\\n\"\n",
    "      f\"sim : {G_m_sim}\")"
   ],
   "metadata": {
    "collapsed": false
   }
  },
  {
   "cell_type": "code",
   "execution_count": 36,
   "outputs": [],
   "source": [
    "g_parameters_df = fill_parameters(g_parameters_df,\n",
    "                                  name=\"G_m\",\n",
    "                                  info=\"Minimum af gradient required for Tip Cells Activation\",\n",
    "                                  real_value=G_m_real.magnitude,\n",
    "                                  real_um=G_m_real.units,\n",
    "                                  sim_value=G_m_sim.magnitude,\n",
    "                                  sim_um=G_m_sim.units,\n",
    "                                  references=\"Shamloo, A., Ma, N., Poo, M. M., Sohn, L. L., & Heilshorn, S. C. (2008). Endothelial cell polarization and chemotaxis in a microfluidic device. Lab on a Chip, 8(8), 1292–1299. https://doi.org/10.1039/B719788H\")"
   ],
   "metadata": {
    "collapsed": false
   }
  },
  {
   "cell_type": "markdown",
   "source": [
    "### Minimum value for capillaries field c to allow Tip Cells activation ($\\varphi_{th}$)\n",
    "\n",
    "Tip cells can originate only inside the already formed capillaries. Thus, we set:"
   ],
   "metadata": {
    "collapsed": false
   }
  },
  {
   "cell_type": "code",
   "execution_count": 37,
   "outputs": [],
   "source": [
    "phi_th = 0.9"
   ],
   "metadata": {
    "collapsed": false
   }
  },
  {
   "cell_type": "markdown",
   "source": [
    "And have:"
   ],
   "metadata": {
    "collapsed": false
   }
  },
  {
   "cell_type": "code",
   "execution_count": 38,
   "outputs": [],
   "source": [
    "g_parameters_df = fill_parameters(g_parameters_df,\n",
    "                                  name=\"phi_th\",\n",
    "                                  info=\"Minimum capillaries field value for Tip Cells activation\",\n",
    "                                  sim_value=phi_th)"
   ],
   "metadata": {
    "collapsed": false
   }
  },
  {
   "cell_type": "markdown",
   "source": [
    "### Gradient for maximum tip cells velocity ($G_M$)\n",
    "According to Travasso et al. (2011):"
   ],
   "metadata": {
    "collapsed": false
   }
  },
  {
   "cell_type": "code",
   "execution_count": 39,
   "outputs": [
    {
     "name": "stdout",
     "output_type": "stream",
     "text": [
      "G_M: \n",
      "     (real) 42 nanogram / milliliter / millimeter\n",
      "     (sim)  5.6 af arbitrary concentration unit / space arbitrary unit\n"
     ]
    }
   ],
   "source": [
    "G_M_real = 3 * G_m_real\n",
    "G_M_sim = 3 * G_m_sim\n",
    "\n",
    "print(f\"G_M: \\n\"\n",
    "      f\"     (real) {G_M_real:.2g}\\n\"\n",
    "      f\"     (sim)  {G_M_sim:.2g}\")"
   ],
   "metadata": {
    "collapsed": false
   }
  },
  {
   "cell_type": "markdown",
   "source": [
    "This value is estimated by Stokes et al. (1991) based on actual experiments, but I am not sure of the procedure they used."
   ],
   "metadata": {
    "collapsed": false
   }
  },
  {
   "cell_type": "code",
   "execution_count": 40,
   "outputs": [],
   "source": [
    "g_parameters_df = fill_parameters(g_parameters_df,\n",
    "                                  name=\"G_M\",\n",
    "                                  info=\"af gradient for maximum tip cells velocity\",\n",
    "                                  real_value=G_M_real.magnitude,\n",
    "                                  real_um=G_M_real.units,\n",
    "                                  sim_value=G_M_sim.magnitude,\n",
    "                                  sim_um=G_M_sim.units)"
   ],
   "metadata": {
    "collapsed": false
   }
  },
  {
   "cell_type": "markdown",
   "source": [
    "### Extreme values for capillaries field ($\\varphi_{min}$ and $\\varphi_{max}$)\n",
    "\n",
    "For the system construction, these values are just 1 and -1:"
   ],
   "metadata": {
    "collapsed": false
   }
  },
  {
   "cell_type": "code",
   "execution_count": 41,
   "outputs": [],
   "source": [
    "phi_min = -1  # define minimum phi value\n",
    "\n",
    "# add it to parameters\n",
    "g_parameters_df = fill_parameters(g_parameters_df,\n",
    "                                  name=\"phi_min\",\n",
    "                                  info=\"Min capillaries field value\",\n",
    "                                  sim_value=phi_min)\n",
    "\n",
    "phi_max = 1  # define maximum phi value\n",
    "\n",
    "# add it to parameters\n",
    "g_parameters_df = fill_parameters(g_parameters_df,\n",
    "                                  name=\"phi_max\",\n",
    "                                  info=\"Max capillaries field value\",\n",
    "                                  sim_value=phi_max)"
   ],
   "metadata": {
    "collapsed": false
   }
  },
  {
   "cell_type": "markdown",
   "source": [
    "### Motility value for capillaries phase field ($M$)\n",
    "\n",
    "Travasso et al. assume this value to be $10^{-15} [\\frac{m^2}{s}]$. We assume the same:"
   ],
   "metadata": {
    "collapsed": false
   }
  },
  {
   "cell_type": "code",
   "execution_count": 42,
   "outputs": [],
   "source": [
    "M_real = 1e-15 * ureg(\"m ** 2 / s\")\n",
    "M_real = M_real.to(\"mm ** 2 / s\")\n",
    "M_sim = M_real.to(\"sau ** 2 / tau\")\n",
    "\n",
    "g_parameters_df = fill_parameters(g_parameters_df,\n",
    "                                  name=\"M\",\n",
    "                                  info=\"'Motility' for the capillaries phase field\",\n",
    "                                  real_value=M_real.magnitude,\n",
    "                                  real_um=M_real.units,\n",
    "                                  sim_value=M_sim.magnitude,\n",
    "                                  sim_um=M_sim.units)"
   ],
   "metadata": {
    "collapsed": false
   }
  },
  {
   "cell_type": "markdown",
   "source": [
    "### Chemotactic coefficient for tip cells ($\\chi$)\n",
    "\n",
    "Travasso assumes that the maximum tip cells velocity is in the order of (Figure 1; Travasso et al. 2011):"
   ],
   "metadata": {
    "collapsed": false
   }
  },
  {
   "cell_type": "code",
   "execution_count": 43,
   "outputs": [
    {
     "name": "stdout",
     "output_type": "stream",
     "text": [
      "max tip cells velocity (real): 0.35 micrometer / minute\n",
      "max tip cells velocity (sim): 0.011 space arbitrary unit / time arbitrary unit\n"
     ]
    }
   ],
   "source": [
    "max_tip_cells_velocity_real = 0.35 * (ureg.um / ureg.min)\n",
    "print(f\"max tip cells velocity (real): {max_tip_cells_velocity_real:.2g}\")\n",
    "max_tip_cells_velocity_sim = max_tip_cells_velocity_real.to(\"sau / tau\")\n",
    "print(f\"max tip cells velocity (sim): {max_tip_cells_velocity_sim:.2g}\")"
   ],
   "metadata": {
    "collapsed": false
   }
  },
  {
   "cell_type": "markdown",
   "source": [
    "And recent experiments confirm this result. Blinder Y.J. et al. (2015) report an average tip cell velocity of $17 \\frac{\\mu m}{hr} =  0.28 \\frac{\\mu m}{min}$."
   ],
   "metadata": {
    "collapsed": false
   }
  },
  {
   "cell_type": "markdown",
   "source": [
    "This leads to a $\\chi$ value of:"
   ],
   "metadata": {
    "collapsed": false
   }
  },
  {
   "cell_type": "code",
   "execution_count": 44,
   "outputs": [
    {
     "name": "stdout",
     "output_type": "stream",
     "text": [
      "chi (sim): 0.002 space arbitrary unit ** 2 / af arbitrary concentration unit / time arbitrary unit\n",
      "chi (real): 0.0083 micrometer * milliliter * millimeter / minute / nanogram\n"
     ]
    }
   ],
   "source": [
    "chi_sim = max_tip_cells_velocity_sim / G_M_sim\n",
    "print(f\"chi (sim): {chi_sim:.2g}\")\n",
    "chi_real = max_tip_cells_velocity_real / G_M_real\n",
    "print(f\"chi (real): {chi_real:.2g}\")"
   ],
   "metadata": {
    "collapsed": false
   }
  },
  {
   "cell_type": "code",
   "execution_count": 45,
   "outputs": [],
   "source": [
    "g_parameters_df = fill_parameters(g_parameters_df,\n",
    "                                  name=\"chi\",\n",
    "                                  info=\"chemotactic constant for tip cells\",\n",
    "                                  real_value=chi_real.magnitude,\n",
    "                                  real_um=chi_real.units,\n",
    "                                  sim_value=chi_sim.magnitude,\n",
    "                                  sim_um=chi_sim.units)"
   ],
   "metadata": {
    "collapsed": false
   }
  },
  {
   "cell_type": "markdown",
   "source": [
    "### Minimum Tip Cells distance\n",
    "The generation of new Tip Cells is inhibited by other Tip Cells due to the Notch Pathway. This mechanism prevents the formation of two neighbor tip cells, thus, Travasso et al. (2011) assumed that exists a minimum distance for the activation of two tip cells equal to 4 cell radiuses:"
   ],
   "metadata": {
    "collapsed": false
   }
  },
  {
   "cell_type": "code",
   "execution_count": 46,
   "outputs": [
    {
     "name": "stdout",
     "output_type": "stream",
     "text": [
      "min tipcell distance: \n",
      "                      (real) 40 micrometer\n",
      "                      (sim)  0.05 space arbitrary unit\n"
     ]
    }
   ],
   "source": [
    "min_tipcell_distance_real = 4 * R_c\n",
    "min_tipcell_distance_sim = min_tipcell_distance_real.to(\"sau\")\n",
    "\n",
    "print(f\"min tipcell distance: \\n\"\n",
    "      f\"                      (real) {min_tipcell_distance_real:.2g}\\n\"\n",
    "      f\"                      (sim)  {min_tipcell_distance_sim:.2g}\")"
   ],
   "metadata": {
    "collapsed": false
   }
  },
  {
   "cell_type": "code",
   "execution_count": 47,
   "outputs": [],
   "source": [
    "g_parameters_df = fill_parameters(g_parameters_df,\n",
    "                                  name=\"min_tipcell_distance\",\n",
    "                                  info=\"Min Tip Cells distance (due to Notch pathway)\",\n",
    "                                  real_value=min_tipcell_distance_real.magnitude,\n",
    "                                  real_um=min_tipcell_distance_real.units,\n",
    "                                  sim_value=min_tipcell_distance_sim.magnitude,\n",
    "                                  sim_um=min_tipcell_distance_sim.units)"
   ],
   "metadata": {
    "collapsed": false
   }
  },
  {
   "cell_type": "markdown",
   "source": [
    "## Tumor parameters\n",
    "\n",
    "### Initial tumor dimension factor\n",
    "The dimension of each tumor is reported in the `input_patients_data/patients_parameters.json` file. With the initial tumor dimension factor, the user can control the initial dimension of the tumor as a fraction of the initial dimension. For instance, an initial tumor dimension ratio of 0.5, will make the simulation start with all the axes of the tumor equal to the 50% of their actual dimension.\n"
   ],
   "metadata": {
    "collapsed": false
   }
  },
  {
   "cell_type": "code",
   "execution_count": 48,
   "outputs": [],
   "source": [
    "initial_tumor_dimension_factor = 1\n",
    "\n",
    "g_parameters_df = fill_parameters(g_parameters_df,\n",
    "                                  name=\"tdf_i\",\n",
    "                                  info=\"Initial Tumor Dimension factor\",\n",
    "                                  real_value=initial_tumor_dimension_factor,\n",
    "                                  real_um=\"None\",\n",
    "                                  sim_value=initial_tumor_dimension_factor,\n",
    "                                  sim_um=\"None\",\n",
    "                                  references=\"None\")"
   ],
   "metadata": {
    "collapsed": false
   }
  },
  {
   "cell_type": "markdown",
   "source": [
    "### Tumor Growth Rate\n",
    "The average growth for CNS hemangioblastoma related to VHL (we could not find data for Retinal Hemangioblastoma) has been reported to be in the order of 0.35% per year. This means that, given an initial volume $V_i$, the volume evolution in time can be described by $V(t) = V_i \\cdot 1.35^{t}$, where t is in [years]. (Ye D. et al.; 2012)\n",
    "\n",
    "Given that 1 year correspond to:"
   ],
   "metadata": {
    "collapsed": false
   }
  },
  {
   "cell_type": "code",
   "execution_count": 50,
   "outputs": [
    {
     "name": "stdout",
     "output_type": "stream",
     "text": [
      "20229.23076923077 tau\n"
     ]
    }
   ],
   "source": [
    "year_in_tau = (1 * ureg(\"year\")).to(\"tau\")\n",
    "print(year_in_tau)"
   ],
   "metadata": {
    "collapsed": false
   }
  },
  {
   "cell_type": "markdown",
   "source": [
    "The growth rate in terms of tau is $1.3^{\\frac{1}{year_in_tau}}$:"
   ],
   "metadata": {
    "collapsed": false
   }
  },
  {
   "cell_type": "code",
   "execution_count": 51,
   "outputs": [
    {
     "name": "stdout",
     "output_type": "stream",
     "text": [
      "1.0000148353055012\n",
      "1.0000200437266367\n"
     ]
    }
   ],
   "source": [
    "tgr = 1.35 ** (1 / year_in_tau.magnitude)\n",
    "tgr_max = 1.5 ** (1 / year_in_tau.magnitude)\n",
    "print(tgr)\n",
    "print(tgr_max)"
   ],
   "metadata": {
    "collapsed": false
   }
  },
  {
   "cell_type": "code",
   "execution_count": 52,
   "outputs": [],
   "source": [
    "g_parameters_df = fill_parameters(g_parameters_df,\n",
    "                                  name=\"tgr\",\n",
    "                                  info=\"Tumor growth rate\",\n",
    "                                  real_value=1.35,\n",
    "                                  real_range_max=1.5,\n",
    "                                  real_um=\"volume fraction per year\",\n",
    "                                  sim_value=tgr,\n",
    "                                  sim_range_max=tgr_max,\n",
    "                                  sim_um=\"volume fraction per tau\",\n",
    "                                  references=\"Estimated using Ye D. et al. (2012)\")"
   ],
   "metadata": {
    "collapsed": false
   }
  },
  {
   "cell_type": "markdown",
   "source": [
    "# Complete parameters\n",
    "The complete parameters table is:"
   ],
   "metadata": {
    "collapsed": false
   }
  },
  {
   "cell_type": "code",
   "execution_count": 53,
   "outputs": [
    {
     "data": {
      "text/plain": "                                                                   info  \\\nname                                                                      \nSpace Arbitrary Unit                                               None   \nTime Arbitrary Unit                                                None   \nAFs Arbitrary Unit                                                 None   \nD_af                                   Diffusivity of angiogenic factor   \nV_d_af                               Angiogenic factor degradation rate   \nV_pT_af               Angiogenic factor production rate inside the t...   \nV_uc_af                         Angiogenic factor uptake in capillaries   \nR_c                                                         Cell radius   \nepsilon                                                 Interface width   \ndt                                                 Simulation time step   \nT_p                   Angiogenic factor concentration for maximum pr...   \nalpha_p                            Endothelial cells proliferation rate   \nT_c                                 Minimum af for Tip Cells Activation   \nG_m                   Minimum af gradient required for Tip Cells Act...   \nphi_th                Minimum capillaries field value for Tip Cells ...   \nG_M                          af gradient for maximum tip cells velocity   \nphi_min                                     Min capillaries field value   \nphi_max                                     Max capillaries field value   \nM                            'Motility' for the capillaries phase field   \nchi                                  chemotactic constant for tip cells   \nmin_tipcell_distance      Min Tip Cells distance (due to Notch pathway)   \nmax_tumor_diameter              Maximum dimension of the tumor diameter   \nmin_tumor_diameter    Minimum simulated dimension of the tumor diameter   \ntgr                                                   Tumor growth rate   \n\n                       real_value real_range_max           real_range_min  \\\nname                                                                        \nSpace Arbitrary Unit          800           None                     None   \nTime Arbitrary Unit            26           None                     None   \nAFs Arbitrary Unit           6000           None                     None   \nD_af                  4.24159e-05         0.0001                    1e-07   \nV_d_af                      0.918          1.008                    0.828   \nV_pT_af                   47.2747        47.2747                0.0333004   \nV_uc_af                       144    1440.0 1/hr  1.6560000000000001 1/hr   \nR_c                            10           None                     None   \nepsilon                    1.5625           None                     None   \ndt                             26           None                     None   \nT_p                          1800           None                     None   \nalpha_p               0.000538889           None                     None   \nT_c                          3000           None                      300   \nG_m                            14           None                     None   \nphi_th                       None           None                     None   \nG_M                            42           None                     None   \nphi_min                      None           None                     None   \nphi_max                      None           None                     None   \nM                           1e-09           None                     None   \nchi                    0.00833333           None                     None   \nmin_tipcell_distance           40           None                     None   \nmax_tumor_diameter            600           None                     None   \nmin_tumor_diameter            400            600                       60   \ntgr                          1.35            1.5                     None   \n\n                                       real_um  sim_value  \\\nname                                                        \nSpace Arbitrary Unit                        µm   1.000000   \nTime Arbitrary Unit                        min   1.000000   \nAFs Arbitrary Unit                       pg/ml   1.000000   \nD_af                                     mm²/s   0.103389   \nV_d_af                                    1/hr   0.397800   \nV_pT_af                                   1/hr  12.291429   \nV_uc_af                                   1/hr  62.400000   \nR_c                                         µm   0.012500   \nepsilon                                    µm²   0.000002   \ndt                                         min   1.000000   \nT_p                                      pg/ml   0.300000   \nalpha_p                               ml/hr/pg   1.401111   \nT_c                                      pg/ml   0.500000   \nG_m                                   ng/ml/mm   1.866667   \nphi_th                                    None   0.900000   \nG_M                                   ng/ml/mm   5.600000   \nphi_min                                   None  -1.000000   \nphi_max                                   None   1.000000   \nM                                        mm²/s   0.000002   \nchi                            ml·mm·µm/min/ng   0.002031   \nmin_tipcell_distance                        µm   0.050000   \nmax_tumor_diameter                          µm   0.750000   \nmin_tumor_diameter                          µm   0.500000   \ntgr                   volume fraction per year   1.000015   \n\n                                sim_range_max sim_range_min  \\\nname                                                          \nSpace Arbitrary Unit                     None          None   \nTime Arbitrary Unit                      None          None   \nAFs Arbitrary Unit                       None          None   \nD_af                                  0.24375    0.00024375   \nV_d_af                                 0.4368        0.3588   \nV_pT_af                               12.2914    0.00865811   \nV_uc_af               623.9999999999999 1/tau  0.7176 1/tau   \nR_c                                      None          None   \nepsilon                                  None          None   \ndt                                       None          None   \nT_p                                      None          None   \nalpha_p                                  None          None   \nT_c                                      None          0.05   \nG_m                                      None          None   \nphi_th                                   None          None   \nG_M                                      None          None   \nphi_min                                  None          None   \nphi_max                                  None          None   \nM                                        None          None   \nchi                                      None          None   \nmin_tipcell_distance                     None          None   \nmax_tumor_diameter                       None          None   \nmin_tumor_diameter                       0.75         0.075   \ntgr                                   1.00002          None   \n\n                                       sim_um  \\\nname                                            \nSpace Arbitrary Unit                      sau   \nTime Arbitrary Unit                       tau   \nAFs Arbitrary Unit                       afau   \nD_af                                 sau²/tau   \nV_d_af                                  1/tau   \nV_pT_af                            afau / tau   \nV_uc_af                               1 / tau   \nR_c                                       sau   \nepsilon                                  sau²   \ndt                                        tau   \nT_p                                      afau   \nalpha_p                            1/afau/tau   \nT_c                                      afau   \nG_m                                  afau/sau   \nphi_th                                   None   \nG_M                                  afau/sau   \nphi_min                                  None   \nphi_max                                  None   \nM                                    sau²/tau   \nchi                             sau²/afau/tau   \nmin_tipcell_distance                      sau   \nmax_tumor_diameter                        sau   \nmin_tumor_diameter                        sau   \ntgr                   volume fraction per tau   \n\n                                                             references  \\\nname                                                                      \nSpace Arbitrary Unit                                               None   \nTime Arbitrary Unit                                                None   \nAFs Arbitrary Unit                                                 None   \nD_af                  Estimated from Kihara, T., Ito, J., & Miyake, ...   \nV_d_af                Vempati, P., Popel, A. S., & Gabhann, F. Mac. ...   \nV_pT_af               Estimated from Finley, S. D., Dhar, M., & Pope...   \nV_uc_af               Estimated by Travasso, R. D. M., Poiré, E. C.,...   \nR_c                   Milo et al. Nucl. Acids Res. (2010) 38 (suppl ...   \nepsilon               Same provied by Travasso, R. D. M., Poiré, E. ...   \ndt                    Same provied by Travasso, R. D. M., Poiré, E. ...   \nT_p                                                                None   \nalpha_p                                                            None   \nT_c                   Imoukhuede, P. I., & Popel, A. S. (2011). Quan...   \nG_m                   Shamloo, A., Ma, N., Poo, M. M., Sohn, L. L., ...   \nphi_th                                                             None   \nG_M                                                                None   \nphi_min                                                            None   \nphi_max                                                            None   \nM                                                                  None   \nchi                                                                None   \nmin_tipcell_distance                                               None   \nmax_tumor_diameter                   Estimated by Goswami et al. (2021)   \nmin_tumor_diameter                                                 None   \ntgr                                 Estimated using Ye D. et al. (2012)   \n\n                     influence  \nname                            \nSpace Arbitrary Unit      None  \nTime Arbitrary Unit       None  \nAFs Arbitrary Unit        None  \nD_af                      None  \nV_d_af                    None  \nV_pT_af                   None  \nV_uc_af                   None  \nR_c                       None  \nepsilon                   None  \ndt                        None  \nT_p                       None  \nalpha_p                   None  \nT_c                       None  \nG_m                       None  \nphi_th                    None  \nG_M                       None  \nphi_min                   None  \nphi_max                   None  \nM                         None  \nchi                       None  \nmin_tipcell_distance      None  \nmax_tumor_diameter        None  \nmin_tumor_diameter        None  \ntgr                       None  ",
      "text/html": "<div>\n<style scoped>\n    .dataframe tbody tr th:only-of-type {\n        vertical-align: middle;\n    }\n\n    .dataframe tbody tr th {\n        vertical-align: top;\n    }\n\n    .dataframe thead th {\n        text-align: right;\n    }\n</style>\n<table border=\"1\" class=\"dataframe\">\n  <thead>\n    <tr style=\"text-align: right;\">\n      <th></th>\n      <th>info</th>\n      <th>real_value</th>\n      <th>real_range_max</th>\n      <th>real_range_min</th>\n      <th>real_um</th>\n      <th>sim_value</th>\n      <th>sim_range_max</th>\n      <th>sim_range_min</th>\n      <th>sim_um</th>\n      <th>references</th>\n      <th>influence</th>\n    </tr>\n    <tr>\n      <th>name</th>\n      <th></th>\n      <th></th>\n      <th></th>\n      <th></th>\n      <th></th>\n      <th></th>\n      <th></th>\n      <th></th>\n      <th></th>\n      <th></th>\n      <th></th>\n    </tr>\n  </thead>\n  <tbody>\n    <tr>\n      <th>Space Arbitrary Unit</th>\n      <td>None</td>\n      <td>800</td>\n      <td>None</td>\n      <td>None</td>\n      <td>µm</td>\n      <td>1.000000</td>\n      <td>None</td>\n      <td>None</td>\n      <td>sau</td>\n      <td>None</td>\n      <td>None</td>\n    </tr>\n    <tr>\n      <th>Time Arbitrary Unit</th>\n      <td>None</td>\n      <td>26</td>\n      <td>None</td>\n      <td>None</td>\n      <td>min</td>\n      <td>1.000000</td>\n      <td>None</td>\n      <td>None</td>\n      <td>tau</td>\n      <td>None</td>\n      <td>None</td>\n    </tr>\n    <tr>\n      <th>AFs Arbitrary Unit</th>\n      <td>None</td>\n      <td>6000</td>\n      <td>None</td>\n      <td>None</td>\n      <td>pg/ml</td>\n      <td>1.000000</td>\n      <td>None</td>\n      <td>None</td>\n      <td>afau</td>\n      <td>None</td>\n      <td>None</td>\n    </tr>\n    <tr>\n      <th>D_af</th>\n      <td>Diffusivity of angiogenic factor</td>\n      <td>4.24159e-05</td>\n      <td>0.0001</td>\n      <td>1e-07</td>\n      <td>mm²/s</td>\n      <td>0.103389</td>\n      <td>0.24375</td>\n      <td>0.00024375</td>\n      <td>sau²/tau</td>\n      <td>Estimated from Kihara, T., Ito, J., &amp; Miyake, ...</td>\n      <td>None</td>\n    </tr>\n    <tr>\n      <th>V_d_af</th>\n      <td>Angiogenic factor degradation rate</td>\n      <td>0.918</td>\n      <td>1.008</td>\n      <td>0.828</td>\n      <td>1/hr</td>\n      <td>0.397800</td>\n      <td>0.4368</td>\n      <td>0.3588</td>\n      <td>1/tau</td>\n      <td>Vempati, P., Popel, A. S., &amp; Gabhann, F. Mac. ...</td>\n      <td>None</td>\n    </tr>\n    <tr>\n      <th>V_pT_af</th>\n      <td>Angiogenic factor production rate inside the t...</td>\n      <td>47.2747</td>\n      <td>47.2747</td>\n      <td>0.0333004</td>\n      <td>1/hr</td>\n      <td>12.291429</td>\n      <td>12.2914</td>\n      <td>0.00865811</td>\n      <td>afau / tau</td>\n      <td>Estimated from Finley, S. D., Dhar, M., &amp; Pope...</td>\n      <td>None</td>\n    </tr>\n    <tr>\n      <th>V_uc_af</th>\n      <td>Angiogenic factor uptake in capillaries</td>\n      <td>144</td>\n      <td>1440.0 1/hr</td>\n      <td>1.6560000000000001 1/hr</td>\n      <td>1/hr</td>\n      <td>62.400000</td>\n      <td>623.9999999999999 1/tau</td>\n      <td>0.7176 1/tau</td>\n      <td>1 / tau</td>\n      <td>Estimated by Travasso, R. D. M., Poiré, E. C.,...</td>\n      <td>None</td>\n    </tr>\n    <tr>\n      <th>R_c</th>\n      <td>Cell radius</td>\n      <td>10</td>\n      <td>None</td>\n      <td>None</td>\n      <td>µm</td>\n      <td>0.012500</td>\n      <td>None</td>\n      <td>None</td>\n      <td>sau</td>\n      <td>Milo et al. Nucl. Acids Res. (2010) 38 (suppl ...</td>\n      <td>None</td>\n    </tr>\n    <tr>\n      <th>epsilon</th>\n      <td>Interface width</td>\n      <td>1.5625</td>\n      <td>None</td>\n      <td>None</td>\n      <td>µm²</td>\n      <td>0.000002</td>\n      <td>None</td>\n      <td>None</td>\n      <td>sau²</td>\n      <td>Same provied by Travasso, R. D. M., Poiré, E. ...</td>\n      <td>None</td>\n    </tr>\n    <tr>\n      <th>dt</th>\n      <td>Simulation time step</td>\n      <td>26</td>\n      <td>None</td>\n      <td>None</td>\n      <td>min</td>\n      <td>1.000000</td>\n      <td>None</td>\n      <td>None</td>\n      <td>tau</td>\n      <td>Same provied by Travasso, R. D. M., Poiré, E. ...</td>\n      <td>None</td>\n    </tr>\n    <tr>\n      <th>T_p</th>\n      <td>Angiogenic factor concentration for maximum pr...</td>\n      <td>1800</td>\n      <td>None</td>\n      <td>None</td>\n      <td>pg/ml</td>\n      <td>0.300000</td>\n      <td>None</td>\n      <td>None</td>\n      <td>afau</td>\n      <td>None</td>\n      <td>None</td>\n    </tr>\n    <tr>\n      <th>alpha_p</th>\n      <td>Endothelial cells proliferation rate</td>\n      <td>0.000538889</td>\n      <td>None</td>\n      <td>None</td>\n      <td>ml/hr/pg</td>\n      <td>1.401111</td>\n      <td>None</td>\n      <td>None</td>\n      <td>1/afau/tau</td>\n      <td>None</td>\n      <td>None</td>\n    </tr>\n    <tr>\n      <th>T_c</th>\n      <td>Minimum af for Tip Cells Activation</td>\n      <td>3000</td>\n      <td>None</td>\n      <td>300</td>\n      <td>pg/ml</td>\n      <td>0.500000</td>\n      <td>None</td>\n      <td>0.05</td>\n      <td>afau</td>\n      <td>Imoukhuede, P. I., &amp; Popel, A. S. (2011). Quan...</td>\n      <td>None</td>\n    </tr>\n    <tr>\n      <th>G_m</th>\n      <td>Minimum af gradient required for Tip Cells Act...</td>\n      <td>14</td>\n      <td>None</td>\n      <td>None</td>\n      <td>ng/ml/mm</td>\n      <td>1.866667</td>\n      <td>None</td>\n      <td>None</td>\n      <td>afau/sau</td>\n      <td>Shamloo, A., Ma, N., Poo, M. M., Sohn, L. L., ...</td>\n      <td>None</td>\n    </tr>\n    <tr>\n      <th>phi_th</th>\n      <td>Minimum capillaries field value for Tip Cells ...</td>\n      <td>None</td>\n      <td>None</td>\n      <td>None</td>\n      <td>None</td>\n      <td>0.900000</td>\n      <td>None</td>\n      <td>None</td>\n      <td>None</td>\n      <td>None</td>\n      <td>None</td>\n    </tr>\n    <tr>\n      <th>G_M</th>\n      <td>af gradient for maximum tip cells velocity</td>\n      <td>42</td>\n      <td>None</td>\n      <td>None</td>\n      <td>ng/ml/mm</td>\n      <td>5.600000</td>\n      <td>None</td>\n      <td>None</td>\n      <td>afau/sau</td>\n      <td>None</td>\n      <td>None</td>\n    </tr>\n    <tr>\n      <th>phi_min</th>\n      <td>Min capillaries field value</td>\n      <td>None</td>\n      <td>None</td>\n      <td>None</td>\n      <td>None</td>\n      <td>-1.000000</td>\n      <td>None</td>\n      <td>None</td>\n      <td>None</td>\n      <td>None</td>\n      <td>None</td>\n    </tr>\n    <tr>\n      <th>phi_max</th>\n      <td>Max capillaries field value</td>\n      <td>None</td>\n      <td>None</td>\n      <td>None</td>\n      <td>None</td>\n      <td>1.000000</td>\n      <td>None</td>\n      <td>None</td>\n      <td>None</td>\n      <td>None</td>\n      <td>None</td>\n    </tr>\n    <tr>\n      <th>M</th>\n      <td>'Motility' for the capillaries phase field</td>\n      <td>1e-09</td>\n      <td>None</td>\n      <td>None</td>\n      <td>mm²/s</td>\n      <td>0.000002</td>\n      <td>None</td>\n      <td>None</td>\n      <td>sau²/tau</td>\n      <td>None</td>\n      <td>None</td>\n    </tr>\n    <tr>\n      <th>chi</th>\n      <td>chemotactic constant for tip cells</td>\n      <td>0.00833333</td>\n      <td>None</td>\n      <td>None</td>\n      <td>ml·mm·µm/min/ng</td>\n      <td>0.002031</td>\n      <td>None</td>\n      <td>None</td>\n      <td>sau²/afau/tau</td>\n      <td>None</td>\n      <td>None</td>\n    </tr>\n    <tr>\n      <th>min_tipcell_distance</th>\n      <td>Min Tip Cells distance (due to Notch pathway)</td>\n      <td>40</td>\n      <td>None</td>\n      <td>None</td>\n      <td>µm</td>\n      <td>0.050000</td>\n      <td>None</td>\n      <td>None</td>\n      <td>sau</td>\n      <td>None</td>\n      <td>None</td>\n    </tr>\n    <tr>\n      <th>max_tumor_diameter</th>\n      <td>Maximum dimension of the tumor diameter</td>\n      <td>600</td>\n      <td>None</td>\n      <td>None</td>\n      <td>µm</td>\n      <td>0.750000</td>\n      <td>None</td>\n      <td>None</td>\n      <td>sau</td>\n      <td>Estimated by Goswami et al. (2021)</td>\n      <td>None</td>\n    </tr>\n    <tr>\n      <th>min_tumor_diameter</th>\n      <td>Minimum simulated dimension of the tumor diameter</td>\n      <td>400</td>\n      <td>600</td>\n      <td>60</td>\n      <td>µm</td>\n      <td>0.500000</td>\n      <td>0.75</td>\n      <td>0.075</td>\n      <td>sau</td>\n      <td>None</td>\n      <td>None</td>\n    </tr>\n    <tr>\n      <th>tgr</th>\n      <td>Tumor growth rate</td>\n      <td>1.35</td>\n      <td>1.5</td>\n      <td>None</td>\n      <td>volume fraction per year</td>\n      <td>1.000015</td>\n      <td>1.00002</td>\n      <td>None</td>\n      <td>volume fraction per tau</td>\n      <td>Estimated using Ye D. et al. (2012)</td>\n      <td>None</td>\n    </tr>\n  </tbody>\n</table>\n</div>"
     },
     "metadata": {},
     "output_type": "display_data"
    }
   ],
   "source": [
    "from IPython.display import display\n",
    "\n",
    "g_parameters_df.set_index(\"name\", inplace=True)  # needed for simulation\n",
    "\n",
    "display(g_parameters_df)"
   ],
   "metadata": {
    "collapsed": false
   }
  },
  {
   "cell_type": "markdown",
   "source": [
    "So we can convert it to csv:"
   ],
   "metadata": {
    "collapsed": false
   }
  },
  {
   "cell_type": "code",
   "execution_count": 54,
   "outputs": [],
   "source": [
    "g_parameters_df.to_csv(\"out/g_parameters.csv\")"
   ],
   "metadata": {
    "collapsed": false
   }
  },
  {
   "cell_type": "markdown",
   "source": [
    "# References\n",
    "\n",
    "Lai, X., & Friedman, A. (2019). Mathematical modeling in scheduling cancer treatment with combination of VEGF inhibitor and chemotherapy drugs. Journal of Theoretical Biology, 462, 490–498. https://doi.org/10.1016/J.JTBI.2018.11.018\n",
    "\n",
    "Liao, K.L. , Bai, X.F. , Friedman, A. , 2014. Mathematical modeling of interleukin-27 induction of anti-tumor t cells response. PLoS One 9 (3), e91844.\n",
    "\n",
    "Guerra, A., Belinha, J., Mangir, N., MacNeil, S., & Natal Jorge, R. (2021). Sprouting Angiogenesis: A Numerical Approach with Experimental Validation. Annals of Biomedical Engineering, 49(2), 871–884. https://doi.org/10.1007/S10439-020-02622-W/TABLES/1\n",
    "\n",
    "Phillips, C. M., Lima, E. A. B. F., Woodall, R. T., Brock, A., & Yankeelov, T. E. (2020). A hybrid model of tumor growth and angiogenesis: In silico experiments. PLOS ONE, 15(4), e0231137. https://doi.org/10.1371/JOURNAL.PONE.0231137\n",
    "\n",
    "Levine, H. A., Pamuk, S., Bölümü, M., Sleeman, B. D., Nilsen-Hamilton, M., Cotran, R. A. S., Leapman, S. B., Folkman, J., & Levine, H. A. (2001). Mathematical modeling of capillary formation and development in tumor angiogenesis: Penetration into the stroma. Bulletin of Mathematical Biology 2001 63:5, 63(5), 801–863. https://doi.org/10.1006/BULM.2001.0240\n",
    "\n",
    "Kihara, T., Ito, J., & Miyake, J. (2013). Measurement of Biomolecular Diffusion in Extracellular Matrix Condensed by Fibroblasts Using Fluorescence Correlation Spectroscopy. PLoS ONE, 8(11), 82382. https://doi.org/10.1371/JOURNAL.PONE.0082382\n",
    "\n",
    "Kut, C., Mac Gabhann, F., & Popel, A. S. (2007). Where is VEGF in the body? A meta-analysis of VEGF distribution in cancer. British Journal of Cancer 2007 97:7, 97(7), 978–985. https://doi.org/10.1038/sj.bjc.6603923\n",
    "\n",
    "Milo et al. Nucl. Acids Res. (2010) 38 (suppl 1): D750-D753.\n",
    "\n",
    "Tracqui, P., Liu, J. W., Collin, O., Clement-Lacroix, J., & Planus, E. (2005). Global analysis of endothelial cell line proliferation patterns based on nutrient-depletion models: implications for a standardization of cell proliferation assays. Cell Proliferation, 38(3), 119–135. https://doi.org/10.1111/J.1365-2184.2005.00337.X\n",
    "\n",
    "Los, M., Aarsman, C. J. M., Terpstra, L., Wittebol-Post, D., Lips, C. J. M., Blijham, G. H., & Voest, E. E. (1997). Elevated ocular levels of vascular endothelial growth factor in patients with von Hippel-Lindau disease. Annals of Oncology, 8(10), 1015–1022. https://doi.org/10.1023/A:1008213320642\n",
    "\n",
    "Karayiannakis, A. J., Zbar, A., Polychronidis, A., & Simopoulos, C. (2003). Serum and Drainage Fluid Vascular Endothelial Growth Factor Levels in Early Surgical Wounds. European Surgical Research, 35(6), 492–496. https://doi.org/10.1159/000073388\n",
    "\n",
    "Shamloo, A., Ma, N., Poo, M. M., Sohn, L. L., & Heilshorn, S. C. (2008). Endothelial cell polarization and chemotaxis in a microfluidic device. Lab on a Chip, 8(8), 1292–1299. https://doi.org/10.1039/B719788H\n",
    "\n",
    "Stokes, C. L., Lauffenburger, D. A., & Williams, S. K. (1991). Migration of individual microvessel endothelial cells: stochastic model and parameter measurement.\n",
    "\n",
    "Finley, S. D., Dhar, M., & Popel, A. S. (2013). Compartment model predicts VEGF secretion and investigates the effects of VEGF Trap in tumor-bearing mice. Frontiers in Oncology, 3 JUL, 196. https://doi.org/10.3389/fonc.2013.00196\n",
    "\n",
    "Na, X., Wu, G., Ryan, C. K., Schoen, S. R., Di’Santagnese, P. A., & Messing, E. M. (2003). Overproduction of vascular endothelial growth factor related to von Hippel-Lindau tumor suppressor gene mutations and hypoxia-inducible factor-1α expression in renal cell carcinomas. Journal of Urology, 170(2 I), 588–592. https://doi.org/10.1097/01.ju.0000074870.54671.98\n",
    "\n",
    "Blinder, Y. J., Freiman, A., Raindel, N., Mooney, D. J., & Levenberg, S. (2015). Vasculogenic dynamics in 3D engineered tissue constructs. Scientific Reports, 5(1), 1–8. https://doi.org/10.1038/srep17840\n",
    "\n",
    "Goswami, A., Surve, A., & Venkatesh, P. (2021). Optical Coherence Tomography Angiography of Early Stage 1a Retinal Hemangioblastoma in Von-Hippel-Lindau. Journal of Kidney Cancer and VHL, 8(3), 15–18. https://doi.org/10.15586/JKCVHL.V8I3.158\n",
    "\n",
    "Arora, S., Chung, H., & Damji, K. (2015). Ophthalmology and Clinical Research Optic Disk Size Assessment Techniques: Photo Essay. Int J Ophthalmol Clin Res, 2, 1.\n",
    "\n",
    "Ye, D. Y., Bakhtian, K. D., Asthagiri, A. R., & Lonser, R. R. (2012). Effect of pregnancy on hemangioblastoma development and progression in von Hippel-Lindau disease: Clinical article. Journal of Neurosurgery, 117(5), 818–824. https://doi.org/10.3171/2012.7.JNS12367\n",
    "\n",
    "Imoukhuede, P. I., & Popel, A. S. (2011). Quantification and cell-to-cell variation of vascular endothelial growth factor receptors. Experimental Cell Research, 317(7), 955–965. https://doi.org/10.1016/J.YEXCR.2010.12.014\n",
    "\n",
    "Bateman, A., Martin, M. J., Orchard, S., Magrane, M., Agivetova, R., Ahmad, S., Alpi, E., Bowler-Barnett, E. H., Britto, R., Bursteinas, B., Bye-A-Jee, H., Coetzee, R., Cukura, A., da Silva, A., Denny, P., Dogan, T., Ebenezer, T. G., Fan, J., Castro, L. G., … Teodoro, D. (2021). UniProt: the universal protein knowledgebase in 2021. Nucleic Acids Research, 49(D1), D480–D489. https://doi.org/10.1093/NAR/GKAA1100"
   ],
   "metadata": {
    "collapsed": false
   }
  }
 ],
 "metadata": {
  "kernelspec": {
   "display_name": "Python 3",
   "language": "python",
   "name": "python3"
  },
  "language_info": {
   "codemirror_mode": {
    "name": "ipython",
    "version": 3
   },
   "file_extension": ".py",
   "mimetype": "text/x-python",
   "name": "python",
   "nbconvert_exporter": "python",
   "pygments_lexer": "ipython3",
   "version": "3.6.9"
  }
 },
 "nbformat": 4,
 "nbformat_minor": 1
}
